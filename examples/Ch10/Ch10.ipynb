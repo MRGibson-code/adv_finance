{
 "cells": [
  {
   "cell_type": "markdown",
   "metadata": {},
   "source": [
    "# Ch10"
   ]
  },
  {
   "cell_type": "code",
   "execution_count": 1,
   "metadata": {},
   "outputs": [],
   "source": [
    "import pandas as pd \n",
    "import numpy as np "
   ]
  },
  {
   "cell_type": "code",
   "execution_count": 2,
   "metadata": {},
   "outputs": [],
   "source": [
    "from scipy.stats import norm"
   ]
  },
  {
   "cell_type": "code",
   "execution_count": 20,
   "metadata": {},
   "outputs": [
    {
     "data": {
      "text/plain": [
       "0.8413447460685429"
      ]
     },
     "execution_count": 20,
     "metadata": {},
     "output_type": "execute_result"
    }
   ],
   "source": [
    "norm.cdf(1)"
   ]
  },
  {
   "cell_type": "code",
   "execution_count": null,
   "metadata": {},
   "outputs": [],
   "source": [
    "xx = np.linspace(-8, 8, 100)\n",
    "cdf = rv.cdf(xx)\n",
    "plt.plot(xx, cdf)\n",
    "plt.title(\"누적분포함수 \")\n",
    "plt.xlabel(\"$x$\")\n",
    "plt.ylabel(\"$F(x)$\")\n",
    "plt.show()"
   ]
  },
  {
   "cell_type": "markdown",
   "metadata": {},
   "source": [
    "## 10.2 Strategy-Independent Bet Sizing Approaches\n",
    "\n",
    "* C t,l / C t,s : Long / Short 시그널이 여러번 나올 수 있음을 가정(하나의 전략에서 Multiple Signal or Multiple Strategy) \n",
    "\n",
    "F[Ct] - F[0]"
   ]
  },
  {
   "cell_type": "markdown",
   "metadata": {},
   "source": [
    "A second solution is to follow a budgeting approach. "
   ]
  },
  {
   "cell_type": "markdown",
   "metadata": {},
   "source": [
    "A third approach is to apply meta-labeling, as we explained in Chapter 3. We fit a classifier, such as an SVC or RF, to determine the probability of misclassification, and use that probability to derive the bet size. This approach has a couple of advantages: First, the ML algorithm that decides the bet sizes is independent of the primary model, allowing for the incorporation fo features predictive of false positives. Second, the predicted probability can be directly translated into bet size. "
   ]
  },
  {
   "cell_type": "markdown",
   "metadata": {},
   "source": [
    "## 10.3 Bet Sizing From Predicted Probabilities"
   ]
  },
  {
   "cell_type": "code",
   "execution_count": 28,
   "metadata": {},
   "outputs": [
    {
     "data": {
      "text/plain": [
       "array([0.5       , 0.55444444, 0.60888889, 0.66333333, 0.71777778,\n",
       "       0.77222222, 0.82666667, 0.88111111, 0.93555556, 0.99      ])"
      ]
     },
     "execution_count": 28,
     "metadata": {},
     "output_type": "execute_result"
    }
   ],
   "source": [
    "A = np.linspace(0.5, 0.99, 10)\n",
    "A"
   ]
  },
  {
   "cell_type": "code",
   "execution_count": 35,
   "metadata": {},
   "outputs": [],
   "source": [
    "from scipy.stats import norm\n",
    "from adv_finance.multiprocess import mp_pandas_obj\n",
    "\n",
    "\n",
    "def discrete_signal(signal, step_size):\n",
    "    # Discrete signal\n",
    "    disc_sig = (signal / step_size).round() * step_size\n",
    "    disc_sig[disc_sig > 1] = 1\n",
    "    disc_sig[disc_sig < -1] = -1\n",
    "    return disc_sig\n",
    "\n",
    "def get_signal(events, step_size, prob, pred, num_classes, num_threads, **kwargs):\n",
    "    # Get signals from predictions\n",
    "    if prob.shape[0] == 0:\n",
    "        return pd.Series()\n",
    "    # Generate signals from multinomial\n",
    "    signal0 = (prob - 1. / num_classes) / np.sqrt(prob * (1. - prob))\n",
    "    signal0 = pred * (2 * norm.cdf(signal0) - 1)\n",
    "    if 'side' in events:\n",
    "        signal0 *= events.loc[signal0.index, 'side']\n",
    "    # Averaging\n",
    "    df0 = signal0.to_frame('signal').join(events[['t1']], how='left')\n",
    "    df0 = avg_active_signals(df0, num_threads)\n",
    "    signal1 = discrete_signal(signal0=df0, step_size=step_size)\n",
    "    return signal1\n",
    "\n",
    "def mp_avg_active_signals(signals, molecule):\n",
    "    out = pd.Series()\n",
    "    for loc in molecule:\n",
    "        is_act = (signals.index.values <= loc) & ((loc < signal['t1']) | pd.isnull(signals['t1']))\n",
    "        act = signals[is_act].index\n",
    "        if len(act) > 0:\n",
    "            out[loc] = signals.loc[act, 'signal'].mean()\n",
    "        else:\n",
    "            out[loc] = 0\n",
    "    return out\n",
    "\n",
    "def avg_active_signals(signals, num_threads):\n",
    "    # Compute the average signal\n",
    "    # 1) time points where singal changes\n",
    "    t_pnts = set(signals['t1'].dropna().values)\n",
    "    t_pnts = t_pnts.union(signals.index.values)\n",
    "    t_pnts = list(t_pnts)\n",
    "    t_pnts.sort();\n",
    "    out = mp_pandas_obj(mp_avg_active_signals, ('molecule', t_pnts), num_threads, signals=signals)\n",
    "    return out"
   ]
  },
  {
   "cell_type": "code",
   "execution_count": null,
   "metadata": {},
   "outputs": [],
   "source": []
  }
 ],
 "metadata": {
  "kernelspec": {
   "display_name": "Python 3",
   "language": "python",
   "name": "python3"
  },
  "language_info": {
   "codemirror_mode": {
    "name": "ipython",
    "version": 3
   },
   "file_extension": ".py",
   "mimetype": "text/x-python",
   "name": "python",
   "nbconvert_exporter": "python",
   "pygments_lexer": "ipython3",
   "version": "3.7.2"
  }
 },
 "nbformat": 4,
 "nbformat_minor": 2
}
