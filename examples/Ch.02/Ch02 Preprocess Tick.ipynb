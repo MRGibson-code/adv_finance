{
 "cells": [
  {
   "cell_type": "markdown",
   "metadata": {},
   "source": [
    "### TICKDB\n",
    "* TRADE.TIME: 체결 자료 생성 시각\n",
    "* TRADE.TIMESTAMP: 체결 자료 기록 시각\n",
    "* TRADE.VOLUME_SUM: 누적 총 체결 수량\n",
    "* TRADE.VOLUME_BUY_SUM: 누적 BUY 체결 수량\n",
    "* TRADE.VOLUME_SELL_SUM: 누적 SELL 체결 수량 \n",
    "* TRADE.SIDE: 체결 방향(+:매수, -:매도, X: 정보 없음)\n",
    "* TRADE.TRADE_BUY_SUM: 누적 BUY 체결 횟수\n",
    "* TRADE.TRADE_SELL_SUM: 누적 SELL 체결 횟수\n",
    "* TRADE.TRADE_VALUE_SUM: 누적 총 체결 금액 \n",
    "\n",
    "* QUOTE.TIME: 호가 자료 생성 시각\n",
    "* QUOTE.TIMESTAMP: 호가 자료 기록 시각"
   ]
  },
  {
   "cell_type": "code",
   "execution_count": 1,
   "metadata": {},
   "outputs": [],
   "source": [
    "import pandas as pd\n",
    "import pyarrow as pa\n",
    "import pyarrow.parquet as pq\n",
    "import multiprocessing\n",
    "import itertools\n",
    "\n",
    "from tqdm import tqdm\n",
    "from datetime import datetime \n",
    "from multiprocessing import Process, Pool\n",
    "\n"
   ]
  },
  {
   "cell_type": "code",
   "execution_count": 2,
   "metadata": {},
   "outputs": [],
   "source": [
    "def get_mdays(): \n",
    "    df_hdays = pd.read_excel('/nfs/data/hdays/hdays-2018-KRX.xls')\n",
    "    hdays = df_hdays['일자 및 요일'].str.extract('(\\d{4}-\\d{2}-\\d{2})', expand=False)\n",
    "    hdays = pd.to_datetime(hdays)\n",
    "    hdays.name = '날짜'\n",
    "    mdays = pd.date_range('2018-01-01', '2018-12-31', freq='B')\n",
    "    mdays = mdays.drop(hdays)\n",
    "    return mdays\n"
   ]
  },
  {
   "cell_type": "code",
   "execution_count": 3,
   "metadata": {},
   "outputs": [],
   "source": [
    "m = multiprocessing.Manager()\n",
    "q = m.Queue()\n",
    "\n",
    "def proc_tick(args): \n",
    "    q, pbar, mdays, isin, ticker = args\n",
    "\n",
    "    trade_list = []\n",
    "    for i in mdays: \n",
    "        try:\n",
    "            q.put(1)\n",
    "\n",
    "            date = i.strftime('%Y%m%d')\n",
    "            tickdb = f\"/nfs/tickdb/tickdb_{date}_170000.hdf5\"\n",
    "            market_begin = i.replace(hour=9, minute=0, second=0, microsecond=0)\n",
    "            market_end = i.replace(hour=15, minute=30, second=0, microsecond=0)\n",
    "            \n",
    "            TRADE = pd.read_hdf(tickdb, mode='r', key=isin)\n",
    "            TRADE.TIME = TRADE.TIME.apply(lambda x: datetime.strptime(date + x, \"%Y%m%d%H%M%S\"))\n",
    "            TRADE = TRADE[['TIME','PRICE', 'PRICE_BID', 'PRICE_ASK', 'VOLUME']]\n",
    "            TRADE.columns = ['TIME', 'PRICE', 'BID', 'ASK', 'V']\n",
    "            TRADE['DV'] = TRADE['PRICE'].astype('int64') * TRADE['V'].astype('int64')\n",
    "            TRADE = TRADE[(TRADE.TIME >= market_begin) & (TRADE.TIME <= market_end)]            \n",
    "            trade_list.append(TRADE)\n",
    "            \n",
    "        except Exception as e: \n",
    "            print(tickdb, isin)\n",
    "            print(e)\n",
    "            \n",
    "    df_tick = pd.concat(trade_list)\n",
    "    df_tick = df_tick.reset_index().drop('index', axis=1)\n",
    "    parq_file = f'/nfs/data/interim/{ticker}.parq'\n",
    "    df_tick.to_parquet(parq_file)\n",
    "    return parq_file\n",
    "\n",
    "def progress_listener(q, n): \n",
    "    pbar = tqdm(position=0, total=n, desc=f\"proc_tick\")\n",
    "    for i in iter(q.get, None):         \n",
    "        pbar.update(1)\n",
    "\n",
    "def preprocess_data(mdays, tables): \n",
    "    print('preproc_data() started')\n",
    "\n",
    "    proc = Process(target=progress_listener, args=(q, len(tables) * len(mdays) ))\n",
    "    proc.start() \n",
    "    \n",
    "    with multiprocessing.Pool(processes=4) as pool: \n",
    "        args = list( zip( range(len(tables)), itertools.repeat(mdays), tables.keys(), tables.values()) )\n",
    "        args = [ (q, i0, i1, i2, i3) for i0, i1, i2, i3 in args ]\n",
    "        results = pool.map(proc_tick, (args))\n",
    "        q.put(None)\n",
    "        print(f\"\\n{len(results)} parq files preprocessed \\n\")\n",
    "        \n",
    "    print('preproc_data() finished')\n",
    "\n",
    "    \n",
    "    "
   ]
  },
  {
   "cell_type": "code",
   "execution_count": 4,
   "metadata": {},
   "outputs": [],
   "source": [
    "mdays = get_mdays()"
   ]
  },
  {
   "cell_type": "code",
   "execution_count": 5,
   "metadata": {},
   "outputs": [
    {
     "name": "stdout",
     "output_type": "stream",
     "text": [
      "preproc_data() started\n"
     ]
    },
    {
     "name": "stderr",
     "output_type": "stream",
     "text": [
      "proc_tick:  34%|███▎      | 82/244 [00:44<01:50,  1.47it/s]"
     ]
    },
    {
     "name": "stdout",
     "output_type": "stream",
     "text": [
      "/nfs/tickdb/tickdb_20180430_170000.hdf5 /TRADE_ST/KR7005930003\n",
      "cannot create a storer if the object is not existing nor a value are passed\n",
      "/nfs/tickdb/tickdb_20180502_170000.hdf5 /TRADE_ST/KR7005930003\n",
      "cannot create a storer if the object is not existing nor a value are passed\n"
     ]
    },
    {
     "name": "stderr",
     "output_type": "stream",
     "text": [
      "proc_tick:  34%|███▍      | 84/244 [00:44<01:19,  2.01it/s]"
     ]
    },
    {
     "name": "stdout",
     "output_type": "stream",
     "text": [
      "/nfs/tickdb/tickdb_20180503_170000.hdf5 /TRADE_ST/KR7005930003\n",
      "cannot create a storer if the object is not existing nor a value are passed\n"
     ]
    },
    {
     "name": "stderr",
     "output_type": "stream",
     "text": [
      "proc_tick:  73%|███████▎  | 178/244 [02:06<00:51,  1.29it/s]"
     ]
    },
    {
     "name": "stdout",
     "output_type": "stream",
     "text": [
      "/nfs/tickdb/tickdb_20180919_170000.hdf5 /TRADE_ST/KR7005930003\n",
      "'No object named /TRADE_ST/KR7005930003 in the file'\n",
      "/nfs/tickdb/tickdb_20180920_170000.hdf5 /TRADE_ST/KR7005930003\n",
      "'No object named /TRADE_ST/KR7005930003 in the file'\n",
      "/nfs/tickdb/tickdb_20180921_170000.hdf5 /TRADE_ST/KR7005930003\n",
      "'No object named /TRADE_ST/KR7005930003 in the file'\n"
     ]
    },
    {
     "name": "stderr",
     "output_type": "stream",
     "text": [
      "proc_tick: 100%|██████████| 244/244 [02:58<00:00,  1.21it/s]"
     ]
    },
    {
     "name": "stdout",
     "output_type": "stream",
     "text": [
      "\n",
      "1 parq files preprocessed \n",
      "\n",
      "preproc_data() finished\n"
     ]
    }
   ],
   "source": [
    "tables = {\n",
    "    '/TRADE_ST/KR7005930003': 'TRADE_A005930',\n",
    "}\n",
    "\n",
    "preprocess_data(mdays, tables)\n"
   ]
  },
  {
   "cell_type": "code",
   "execution_count": 12,
   "metadata": {},
   "outputs": [
    {
     "name": "stdout",
     "output_type": "stream",
     "text": [
      "preproc_data() started\n"
     ]
    },
    {
     "name": "stderr",
     "output_type": "stream",
     "text": [
      "proc_tick:  41%|████      | 398/976 [00:56<01:33,  6.21it/s]"
     ]
    },
    {
     "name": "stdout",
     "output_type": "stream",
     "text": [
      "/nfs/tickdb/tickdb_20180919_170000.hdf5 /TRADE_ST/KR7252670005\n",
      "'No object named /TRADE_ST/KR7252670005 in the file'\n",
      "/nfs/tickdb/tickdb_20180920_170000.hdf5 /TRADE_ST/KR7252670005\n",
      "'No object named /TRADE_ST/KR7252670005 in the file'\n",
      "/nfs/tickdb/tickdb_20180921_170000.hdf5 /TRADE_ST/KR7252670005\n",
      "'No object named /TRADE_ST/KR7252670005 in the file'\n"
     ]
    },
    {
     "name": "stderr",
     "output_type": "stream",
     "text": [
      "proc_tick:  59%|█████▉    | 577/976 [01:21<01:09,  5.76it/s]"
     ]
    },
    {
     "name": "stdout",
     "output_type": "stream",
     "text": [
      "/nfs/tickdb/tickdb_20180919_170000.hdf5 /TRADE_ST/KR7251340006\n",
      "'No object named /TRADE_ST/KR7251340006 in the file'\n",
      "/nfs/tickdb/tickdb_20180920_170000.hdf5 /TRADE_ST/KR7251340006\n",
      "'No object named /TRADE_ST/KR7251340006 in the file'\n"
     ]
    },
    {
     "name": "stderr",
     "output_type": "stream",
     "text": [
      "proc_tick:  59%|█████▉    | 580/976 [01:22<00:52,  7.49it/s]"
     ]
    },
    {
     "name": "stdout",
     "output_type": "stream",
     "text": [
      "/nfs/tickdb/tickdb_20180921_170000.hdf5 /TRADE_ST/KR7251340006\n",
      "'No object named /TRADE_ST/KR7251340006 in the file'\n"
     ]
    },
    {
     "name": "stderr",
     "output_type": "stream",
     "text": [
      "proc_tick:  75%|███████▍  | 731/976 [01:51<00:42,  5.75it/s]"
     ]
    },
    {
     "name": "stdout",
     "output_type": "stream",
     "text": [
      "/nfs/tickdb/tickdb_20180919_170000.hdf5 /TRADE_ST/KR7122630007\n",
      "'No object named /TRADE_ST/KR7122630007 in the file'\n",
      "/nfs/tickdb/tickdb_20180920_170000.hdf5 /TRADE_ST/KR7122630007\n",
      "'No object named /TRADE_ST/KR7122630007 in the file'\n",
      "/nfs/tickdb/tickdb_20180921_170000.hdf5 /TRADE_ST/KR7122630007\n",
      "'No object named /TRADE_ST/KR7122630007 in the file'\n"
     ]
    },
    {
     "name": "stderr",
     "output_type": "stream",
     "text": [
      "proc_tick:  93%|█████████▎| 910/976 [02:57<00:41,  1.59it/s]"
     ]
    },
    {
     "name": "stdout",
     "output_type": "stream",
     "text": [
      "/nfs/tickdb/tickdb_20180919_170000.hdf5 /TRADE_ST/KR7233740000\n",
      "'No object named /TRADE_ST/KR7233740000 in the file'\n",
      "/nfs/tickdb/tickdb_20180920_170000.hdf5 /TRADE_ST/KR7233740000\n",
      "'No object named /TRADE_ST/KR7233740000 in the file'\n",
      "/nfs/tickdb/tickdb_20180921_170000.hdf5 /TRADE_ST/KR7233740000\n",
      "'No object named /TRADE_ST/KR7233740000 in the file'\n"
     ]
    },
    {
     "name": "stderr",
     "output_type": "stream",
     "text": [
      "proc_tick: 100%|██████████| 976/976 [04:06<00:00,  1.01it/s]"
     ]
    },
    {
     "name": "stdout",
     "output_type": "stream",
     "text": [
      "\n",
      "4 parq files preprocessed \n",
      "\n",
      "preproc_data() finished\n"
     ]
    }
   ],
   "source": [
    "tables = {\n",
    "    '/TRADE_ST/KR7252670005': 'TRADE_A252670',\n",
    "    '/TRADE_ST/KR7233740000': 'TRADE_A233740',\n",
    "    '/TRADE_ST/KR7251340006': 'TRADE_A251340', \n",
    "    '/TRADE_ST/KR7122630007': 'TRADE_A122630',\n",
    "}\n",
    "\n",
    "preprocess_data(mdays, tables)\n"
   ]
  },
  {
   "cell_type": "code",
   "execution_count": 317,
   "metadata": {},
   "outputs": [],
   "source": [
    "TRADE_A233740 = pd.read_parquet('/nfs/data/interim/TRADE_A233740.parq')\n",
    "# TRADE_A252670 = pd.read_parquet('/nfs/data/interim/TRADE_A252670.parq')\n",
    "# TRADE_A122630 = pd.read_parquet('/nfs/data/interim/TRADE_A122630.parq')\n",
    "# TRADE_A251340 = pd.read_parquet('/nfs/data/interim/TRADE_A251340.parq')"
   ]
  },
  {
   "cell_type": "code",
   "execution_count": null,
   "metadata": {},
   "outputs": [],
   "source": [
    "TRADE_A233740.shape"
   ]
  },
  {
   "cell_type": "code",
   "execution_count": 318,
   "metadata": {},
   "outputs": [
    {
     "data": {
      "text/html": [
       "<div>\n",
       "<style scoped>\n",
       "    .dataframe tbody tr th:only-of-type {\n",
       "        vertical-align: middle;\n",
       "    }\n",
       "\n",
       "    .dataframe tbody tr th {\n",
       "        vertical-align: top;\n",
       "    }\n",
       "\n",
       "    .dataframe thead th {\n",
       "        text-align: right;\n",
       "    }\n",
       "</style>\n",
       "<table border=\"1\" class=\"dataframe\">\n",
       "  <thead>\n",
       "    <tr style=\"text-align: right;\">\n",
       "      <th></th>\n",
       "      <th>TIME</th>\n",
       "      <th>PRICE</th>\n",
       "      <th>BID</th>\n",
       "      <th>ASK</th>\n",
       "      <th>V</th>\n",
       "      <th>DV</th>\n",
       "    </tr>\n",
       "  </thead>\n",
       "  <tbody>\n",
       "    <tr>\n",
       "      <th>4</th>\n",
       "      <td>2018-01-02 09:01:43</td>\n",
       "      <td>19800</td>\n",
       "      <td>-2147483648</td>\n",
       "      <td>-2147483648</td>\n",
       "      <td>60</td>\n",
       "      <td>1188000</td>\n",
       "    </tr>\n",
       "    <tr>\n",
       "      <th>5</th>\n",
       "      <td>2018-01-02 09:03:06</td>\n",
       "      <td>19800</td>\n",
       "      <td>-2147483648</td>\n",
       "      <td>-2147483648</td>\n",
       "      <td>1</td>\n",
       "      <td>19800</td>\n",
       "    </tr>\n",
       "    <tr>\n",
       "      <th>6</th>\n",
       "      <td>2018-01-02 09:04:56</td>\n",
       "      <td>19800</td>\n",
       "      <td>-2147483648</td>\n",
       "      <td>-2147483648</td>\n",
       "      <td>110</td>\n",
       "      <td>2178000</td>\n",
       "    </tr>\n",
       "    <tr>\n",
       "      <th>7</th>\n",
       "      <td>2018-01-02 09:13:44</td>\n",
       "      <td>19800</td>\n",
       "      <td>20005</td>\n",
       "      <td>20030</td>\n",
       "      <td>1</td>\n",
       "      <td>19800</td>\n",
       "    </tr>\n",
       "    <tr>\n",
       "      <th>8</th>\n",
       "      <td>2018-01-02 09:20:01</td>\n",
       "      <td>19800</td>\n",
       "      <td>19900</td>\n",
       "      <td>19940</td>\n",
       "      <td>2000</td>\n",
       "      <td>39600000</td>\n",
       "    </tr>\n",
       "  </tbody>\n",
       "</table>\n",
       "</div>"
      ],
      "text/plain": [
       "                 TIME  PRICE         BID         ASK     V        DV\n",
       "4 2018-01-02 09:01:43  19800 -2147483648 -2147483648    60   1188000\n",
       "5 2018-01-02 09:03:06  19800 -2147483648 -2147483648     1     19800\n",
       "6 2018-01-02 09:04:56  19800 -2147483648 -2147483648   110   2178000\n",
       "7 2018-01-02 09:13:44  19800       20005       20030     1     19800\n",
       "8 2018-01-02 09:20:01  19800       19900       19940  2000  39600000"
      ]
     },
     "execution_count": 318,
     "metadata": {},
     "output_type": "execute_result"
    }
   ],
   "source": [
    "TRADE_A233740.head()"
   ]
  },
  {
   "cell_type": "code",
   "execution_count": 319,
   "metadata": {},
   "outputs": [
    {
     "data": {
      "text/html": [
       "<div>\n",
       "<style scoped>\n",
       "    .dataframe tbody tr th:only-of-type {\n",
       "        vertical-align: middle;\n",
       "    }\n",
       "\n",
       "    .dataframe tbody tr th {\n",
       "        vertical-align: top;\n",
       "    }\n",
       "\n",
       "    .dataframe thead th {\n",
       "        text-align: right;\n",
       "    }\n",
       "</style>\n",
       "<table border=\"1\" class=\"dataframe\">\n",
       "  <thead>\n",
       "    <tr style=\"text-align: right;\">\n",
       "      <th></th>\n",
       "      <th>TIME</th>\n",
       "      <th>PRICE</th>\n",
       "      <th>BID</th>\n",
       "      <th>ASK</th>\n",
       "      <th>V</th>\n",
       "      <th>DV</th>\n",
       "    </tr>\n",
       "  </thead>\n",
       "  <tbody>\n",
       "    <tr>\n",
       "      <th>50357</th>\n",
       "      <td>2018-12-28 15:19:57</td>\n",
       "      <td>11965</td>\n",
       "      <td>11960</td>\n",
       "      <td>11965</td>\n",
       "      <td>16</td>\n",
       "      <td>191440</td>\n",
       "    </tr>\n",
       "    <tr>\n",
       "      <th>50358</th>\n",
       "      <td>2018-12-28 15:19:57</td>\n",
       "      <td>11965</td>\n",
       "      <td>11960</td>\n",
       "      <td>11965</td>\n",
       "      <td>2000</td>\n",
       "      <td>23930000</td>\n",
       "    </tr>\n",
       "    <tr>\n",
       "      <th>50359</th>\n",
       "      <td>2018-12-28 15:19:57</td>\n",
       "      <td>11965</td>\n",
       "      <td>11965</td>\n",
       "      <td>11970</td>\n",
       "      <td>540</td>\n",
       "      <td>6461100</td>\n",
       "    </tr>\n",
       "    <tr>\n",
       "      <th>50360</th>\n",
       "      <td>2018-12-28 15:19:58</td>\n",
       "      <td>11965</td>\n",
       "      <td>11965</td>\n",
       "      <td>11970</td>\n",
       "      <td>500</td>\n",
       "      <td>5982500</td>\n",
       "    </tr>\n",
       "    <tr>\n",
       "      <th>50361</th>\n",
       "      <td>2018-12-28 15:19:59</td>\n",
       "      <td>11965</td>\n",
       "      <td>11965</td>\n",
       "      <td>11970</td>\n",
       "      <td>10</td>\n",
       "      <td>119650</td>\n",
       "    </tr>\n",
       "  </tbody>\n",
       "</table>\n",
       "</div>"
      ],
      "text/plain": [
       "                     TIME  PRICE    BID    ASK     V        DV\n",
       "50357 2018-12-28 15:19:57  11965  11960  11965    16    191440\n",
       "50358 2018-12-28 15:19:57  11965  11960  11965  2000  23930000\n",
       "50359 2018-12-28 15:19:57  11965  11965  11970   540   6461100\n",
       "50360 2018-12-28 15:19:58  11965  11965  11970   500   5982500\n",
       "50361 2018-12-28 15:19:59  11965  11965  11970    10    119650"
      ]
     },
     "execution_count": 319,
     "metadata": {},
     "output_type": "execute_result"
    }
   ],
   "source": [
    "TRADE_A233740.tail()"
   ]
  },
  {
   "cell_type": "code",
   "execution_count": 9,
   "metadata": {},
   "outputs": [],
   "source": [
    "\n",
    "# A122630 KODEX 레버리지(ISIN: KR7122630007)\n",
    "# A252670 KODEX 200선물인버스2X(ISIN: KR7252670005)\n",
    "# A233740 KODEX 코스닥150레버리지(ISIN: KR7233740000)\n",
    "# A251340 KODEX 코스닥150선물인버스(ISIN: KR7251340006)\n",
    "# A005930 삼성전자(ISIN:KR7005930003)\n",
    "\n",
    "# TRADE_A252670 = pd.read_hdf(tickdb, mode='r', key='/TRADE_ST/KR7252670005')\n",
    "# TRADE_A233740 = pd.read_hdf(tickdb, mode='r', key='/TRADE_ST/KR7233740000')\n",
    "# TRADE_A251340 = pd.read_hdf(tickdb, mode='r', key='/TRADE_ST/KR7251340006')\n",
    "# TRADE_A005930 = pd.read_hdf(tickdb, mode='r', key='/TRADE_ST/KR7005930003')"
   ]
  },
  {
   "cell_type": "code",
   "execution_count": 29,
   "metadata": {},
   "outputs": [],
   "source": [
    "# TRADE_A252670 = pd.read_parquet('/nfs/data/interim/TRADE_A252670.parq')\n",
    "# TRADE_A122630 = pd.read_parquet('/nfs/data/interim/TRADE_A122630.parq')\n",
    "# TRADE_A233740 = pd.read_parquet('/nfs/data/interim/TRADE_A233740.parq')\n",
    "# TRADE_A251340 = pd.read_parquet('/nfs/data/interim/TRADE_A251340.parq')\n",
    "# TRADE_A005930 = pd.read_parquet('/nfs/data/interim/TRADE_A005930.parq')"
   ]
  }
 ],
 "metadata": {
  "kernelspec": {
   "display_name": "Python 3",
   "language": "python",
   "name": "python3"
  },
  "language_info": {
   "codemirror_mode": {
    "name": "ipython",
    "version": 3
   },
   "file_extension": ".py",
   "mimetype": "text/x-python",
   "name": "python",
   "nbconvert_exporter": "python",
   "pygments_lexer": "ipython3",
   "version": "3.7.2"
  }
 },
 "nbformat": 4,
 "nbformat_minor": 2
}
