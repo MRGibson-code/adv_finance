{
 "cells": [
  {
   "cell_type": "markdown",
   "metadata": {},
   "source": [
    "# Ch04 4.5.3 Numerical Example"
   ]
  },
  {
   "cell_type": "code",
   "execution_count": 21,
   "metadata": {},
   "outputs": [],
   "source": [
    "import numpy as np \n",
    "import pandas as pd \n",
    "\n",
    "import matplotlib as mpl\n",
    "import matplotlib.pyplot as plt\n",
    "\n",
    "import datetime as dt\n",
    "from adv_finance import bars, labeling, utils, sampling\n",
    "\n",
    "from matplotlib.patches import Rectangle\n",
    "import  matplotlib.dates as mdates\n",
    "\n",
    "from tqdm import tqdm\n",
    "from scipy.sparse import coo_matrix, csr_matrix"
   ]
  },
  {
   "cell_type": "code",
   "execution_count": 66,
   "metadata": {},
   "outputs": [],
   "source": [
    "def get_ind_matrix(bar_ix, t1): \n",
    "    try: \n",
    "        n_row = len(bar_ix)\n",
    "        n_col = len(t1)\n",
    "        mat = csr_matrix((n_row, n_col), dtype='b')\n",
    "        \n",
    "#         for i, (t0, t1) in enumerate(t1.iteritems()): \n",
    "        for i, (t0, t1) in tqdm(enumerate(t1.iteritems()), position=0): \n",
    "            mat[t0:t1+1, i] = 1\n",
    "            \n",
    "    except Exception as e:\n",
    "        print(e)\n",
    "        \n",
    "    return mat\n",
    "\n",
    "\n",
    "def get_avg_uniqueness(ind_mat): \n",
    "    try: \n",
    "        # Average uniqueness from indicator matrix\n",
    "        c = ind_mat[:, -1].sum(axis=1) # concurrency\n",
    "        m0 = ind_mat[:, :-1].todense().sum(axis=1) + 1\n",
    "        u = ind_mat[:, -1] / m0\n",
    "        avg_u = u.sum(axis=0)[0,0] / c.sum(axis=0)[0,0]\n",
    "        return avg_u\n",
    "    \n",
    "    except Exception as e:\n",
    "        print(e)\n",
    "            \n",
    "    return avg_u\n",
    "\n",
    "\n"
   ]
  },
  {
   "cell_type": "code",
   "execution_count": 67,
   "metadata": {},
   "outputs": [
    {
     "name": "stderr",
     "output_type": "stream",
     "text": [
      "0it [00:00, ?it/s]/opt/conda/envs/python372/lib/python3.7/site-packages/ipykernel_launcher.py:9: SparseEfficiencyWarning: Changing the sparsity structure of a csr_matrix is expensive. lil_matrix is more efficient.\n",
      "  if __name__ == '__main__':\n",
      "3it [00:00, 713.68it/s]\n"
     ]
    },
    {
     "data": {
      "text/plain": [
       "<6x3 sparse matrix of type '<class 'numpy.int8'>'\n",
       "\twith 7 stored elements in Compressed Sparse Row format>"
      ]
     },
     "execution_count": 67,
     "metadata": {},
     "output_type": "execute_result"
    }
   ],
   "source": [
    "t1 = pd.Series([2,3,5], index=[0,2,4])\n",
    "barIx = range(t1.max()+1) # index of bars\n",
    "indM = get_ind_matrix(barIx, t1)\n",
    "indM"
   ]
  },
  {
   "cell_type": "markdown",
   "metadata": {},
   "source": [
    "## phi = [1]"
   ]
  },
  {
   "cell_type": "code",
   "execution_count": 64,
   "metadata": {},
   "outputs": [
    {
     "name": "stdout",
     "output_type": "stream",
     "text": [
      "Average Uniqueness: \n",
      " 0    0.833333\n",
      "1    0.500000\n",
      "2    1.000000\n",
      "dtype: float64\n",
      "Feature draw probabilities: \n",
      " 0    0.357143\n",
      "1    0.214286\n",
      "2    0.428571\n",
      "dtype: float64\n"
     ]
    }
   ],
   "source": [
    "phi = [1]        # phi = [1] corresponds to column 1, feature 2\n",
    "\n",
    "# Following statements are taken from the SNIPPET 4.5 - function seqBootstrap(indM,sLength=None)\n",
    "avg_u = pd.Series()\n",
    "\n",
    "for i in np.arange(indM.shape[1]): \n",
    "    indM_ = indM[:, phi+[i]] # reduce indM\n",
    "    avg_u.loc[i] = get_avg_uniqueness(indM_)\n",
    "\n",
    "print('Average Uniqueness: \\n',avg_u)\n",
    "\n",
    "prob2 = avg_u/avg_u.sum()\n",
    "print('Feature draw probabilities: \\n', prob2)\n"
   ]
  },
  {
   "cell_type": "markdown",
   "metadata": {},
   "source": [
    "## phi = [1, 2]"
   ]
  },
  {
   "cell_type": "code",
   "execution_count": 65,
   "metadata": {},
   "outputs": [
    {
     "name": "stdout",
     "output_type": "stream",
     "text": [
      "Average Uniqueness: \n",
      " 0    0.833333\n",
      "1    0.500000\n",
      "2    0.500000\n",
      "dtype: float64\n",
      "Feature draw probabilities: \n",
      " 0    0.454545\n",
      "1    0.272727\n",
      "2    0.272727\n",
      "dtype: float64\n"
     ]
    }
   ],
   "source": [
    "phi = [1,2]        # phi = [1] corresponds to column 1, feature 2\n",
    "\n",
    "# Following statements are taken from the SNIPPET 4.5 - function seqBootstrap(indM,sLength=None)\n",
    "avg_u = pd.Series()\n",
    "\n",
    "for i in np.arange(indM.shape[1]): \n",
    "    indM_ = indM[:, phi+[i]] # reduce indM\n",
    "    avg_u.loc[i] = get_avg_uniqueness(indM_)\n",
    "\n",
    "print('Average Uniqueness: \\n',avg_u)\n",
    "\n",
    "prob2 = avg_u/avg_u.sum()\n",
    "print('Feature draw probabilities: \\n', prob2)\n"
   ]
  },
  {
   "cell_type": "markdown",
   "metadata": {},
   "source": [
    "# APPENDIX"
   ]
  },
  {
   "cell_type": "code",
   "execution_count": null,
   "metadata": {},
   "outputs": [],
   "source": []
  }
 ],
 "metadata": {
  "kernelspec": {
   "display_name": "Python 3",
   "language": "python",
   "name": "python3"
  },
  "language_info": {
   "codemirror_mode": {
    "name": "ipython",
    "version": 3
   },
   "file_extension": ".py",
   "mimetype": "text/x-python",
   "name": "python",
   "nbconvert_exporter": "python",
   "pygments_lexer": "ipython3",
   "version": "3.7.2"
  }
 },
 "nbformat": 4,
 "nbformat_minor": 2
}
