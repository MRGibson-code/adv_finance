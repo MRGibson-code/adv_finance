{
 "cells": [
  {
   "cell_type": "markdown",
   "metadata": {},
   "source": [
    "# Ch11: The Dangers of Backtesting"
   ]
  },
  {
   "cell_type": "markdown",
   "metadata": {},
   "source": [
    "## 7 Sins of Quantitative Investing \n",
    "\n",
    "1. Survivorship bias\n",
    "1. Look-ahead bias\n",
    "1. Storytelling\n",
    "1. Data mining and data snooping \n",
    "1. Transaction costs \n",
    "1. Outliers\n",
    "1. Shorting \n"
   ]
  },
  {
   "cell_type": "markdown",
   "metadata": {},
   "source": [
    "### 'The Probability of Backtest Overfitting' - Baily et al. \n",
    "\n",
    "https://opensourcequant.wordpress.com/2018/08/04/a-replication-of-the-practical-application-section-in-the-probability-of-backtest-overfitting-bailey-et-al/"
   ]
  },
  {
   "cell_type": "code",
   "execution_count": null,
   "metadata": {},
   "outputs": [],
   "source": []
  },
  {
   "cell_type": "code",
   "execution_count": null,
   "metadata": {},
   "outputs": [],
   "source": []
  }
 ],
 "metadata": {
  "kernelspec": {
   "display_name": "Python 3",
   "language": "python",
   "name": "python3"
  },
  "language_info": {
   "codemirror_mode": {
    "name": "ipython",
    "version": 3
   },
   "file_extension": ".py",
   "mimetype": "text/x-python",
   "name": "python",
   "nbconvert_exporter": "python",
   "pygments_lexer": "ipython3",
   "version": "3.7.2"
  }
 },
 "nbformat": 4,
 "nbformat_minor": 2
}
