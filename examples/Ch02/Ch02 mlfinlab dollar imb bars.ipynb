{
 "cells": [
  {
   "cell_type": "markdown",
   "metadata": {},
   "source": [
    "# Ch02 mlfinlab 패키지 Dollar Imbalance Bars \n"
   ]
  },
  {
   "cell_type": "code",
   "execution_count": 58,
   "metadata": {},
   "outputs": [],
   "source": [
    "import numpy as np\n",
    "import pandas as pd \n",
    "import matplotlib as mpl\n",
    "import matplotlib.pyplot as plt\n",
    "\n",
    "from numba import jit\n",
    "from adv_finance import bars"
   ]
  },
  {
   "cell_type": "code",
   "execution_count": 59,
   "metadata": {},
   "outputs": [
    {
     "name": "stdout",
     "output_type": "stream",
     "text": [
      "The autoreload extension is already loaded. To reload it, use:\n",
      "  %reload_ext autoreload\n"
     ]
    }
   ],
   "source": [
    "%load_ext autoreload \n",
    "%autoreload 2\n",
    "\n",
    "plt.style.use('seaborn-talk')\n",
    "plt.style.use('bmh')\n",
    "pd.set_option('display.max_rows', 100)\n"
   ]
  },
  {
   "cell_type": "code",
   "execution_count": 20,
   "metadata": {},
   "outputs": [],
   "source": [
    "# * A122630 KODEX 레버리지(ISIN: KR7122630007)\n",
    "# * A252670 KODEX 200선물인버스2X(ISIN: KR7252670005)\n",
    "# * A233740 KODEX 코스닥150레버리지(ISIN: KR7233740000)\n",
    "# * A251340 KODEX 코스닥150선물인버스(ISIN: KR7251340006)\n",
    "# * A005930 삼성전자(ISIN:KR7005930003)\n",
    "\n",
    "TRADE_A233740 = pd.read_parquet('/nfs/data/interim/TRADE_A233740.parq').set_index('TIMESTAMP')\n",
    "df = TRADE_A233740"
   ]
  },
  {
   "cell_type": "code",
   "execution_count": 7,
   "metadata": {},
   "outputs": [
    {
     "data": {
      "text/html": [
       "<div>\n",
       "<style scoped>\n",
       "    .dataframe tbody tr th:only-of-type {\n",
       "        vertical-align: middle;\n",
       "    }\n",
       "\n",
       "    .dataframe tbody tr th {\n",
       "        vertical-align: top;\n",
       "    }\n",
       "\n",
       "    .dataframe thead th {\n",
       "        text-align: right;\n",
       "    }\n",
       "</style>\n",
       "<table border=\"1\" class=\"dataframe\">\n",
       "  <thead>\n",
       "    <tr style=\"text-align: right;\">\n",
       "      <th></th>\n",
       "      <th>TIMESTAMP</th>\n",
       "      <th>PRICE</th>\n",
       "      <th>BID</th>\n",
       "      <th>ASK</th>\n",
       "      <th>V</th>\n",
       "      <th>DV</th>\n",
       "    </tr>\n",
       "  </thead>\n",
       "  <tbody>\n",
       "    <tr>\n",
       "      <th>0</th>\n",
       "      <td>2018-01-02 09:01:43.692</td>\n",
       "      <td>19800</td>\n",
       "      <td>-2147483648</td>\n",
       "      <td>-2147483648</td>\n",
       "      <td>60</td>\n",
       "      <td>1188000</td>\n",
       "    </tr>\n",
       "    <tr>\n",
       "      <th>1</th>\n",
       "      <td>2018-01-02 09:03:06.747</td>\n",
       "      <td>19800</td>\n",
       "      <td>-2147483648</td>\n",
       "      <td>-2147483648</td>\n",
       "      <td>1</td>\n",
       "      <td>19800</td>\n",
       "    </tr>\n",
       "    <tr>\n",
       "      <th>2</th>\n",
       "      <td>2018-01-02 09:04:56.303</td>\n",
       "      <td>19800</td>\n",
       "      <td>-2147483648</td>\n",
       "      <td>-2147483648</td>\n",
       "      <td>110</td>\n",
       "      <td>2178000</td>\n",
       "    </tr>\n",
       "    <tr>\n",
       "      <th>3</th>\n",
       "      <td>2018-01-02 09:13:44.671</td>\n",
       "      <td>19800</td>\n",
       "      <td>20005</td>\n",
       "      <td>20030</td>\n",
       "      <td>1</td>\n",
       "      <td>19800</td>\n",
       "    </tr>\n",
       "    <tr>\n",
       "      <th>4</th>\n",
       "      <td>2018-01-02 09:20:01.166</td>\n",
       "      <td>19800</td>\n",
       "      <td>19900</td>\n",
       "      <td>19940</td>\n",
       "      <td>2000</td>\n",
       "      <td>39600000</td>\n",
       "    </tr>\n",
       "  </tbody>\n",
       "</table>\n",
       "</div>"
      ],
      "text/plain": [
       "                TIMESTAMP  PRICE         BID         ASK     V        DV\n",
       "0 2018-01-02 09:01:43.692  19800 -2147483648 -2147483648    60   1188000\n",
       "1 2018-01-02 09:03:06.747  19800 -2147483648 -2147483648     1     19800\n",
       "2 2018-01-02 09:04:56.303  19800 -2147483648 -2147483648   110   2178000\n",
       "3 2018-01-02 09:13:44.671  19800       20005       20030     1     19800\n",
       "4 2018-01-02 09:20:01.166  19800       19900       19940  2000  39600000"
      ]
     },
     "execution_count": 7,
     "metadata": {},
     "output_type": "execute_result"
    }
   ],
   "source": [
    "df.head()"
   ]
  },
  {
   "cell_type": "code",
   "execution_count": 20,
   "metadata": {},
   "outputs": [],
   "source": [
    "df0 = df[:1000000]"
   ]
  },
  {
   "cell_type": "code",
   "execution_count": 21,
   "metadata": {},
   "outputs": [
    {
     "name": "stderr",
     "output_type": "stream",
     "text": [
      "/opt/conda/envs/python372/lib/python3.7/site-packages/ipykernel_launcher.py:1: SettingWithCopyWarning: \n",
      "A value is trying to be set on a copy of a slice from a DataFrame.\n",
      "Try using .loc[row_indexer,col_indexer] = value instead\n",
      "\n",
      "See the caveats in the documentation: http://pandas.pydata.org/pandas-docs/stable/indexing.html#indexing-view-versus-copy\n",
      "  \"\"\"Entry point for launching an IPython kernel.\n"
     ]
    }
   ],
   "source": [
    "df0['PRICE'] = df0['PRICE'].astype(float)"
   ]
  },
  {
   "cell_type": "code",
   "execution_count": 22,
   "metadata": {},
   "outputs": [],
   "source": [
    "df0.to_csv('/nfs/data/interim/TRADE_A233740.csv', index=True, header=True)\n"
   ]
  },
  {
   "cell_type": "code",
   "execution_count": 17,
   "metadata": {},
   "outputs": [],
   "source": [
    "df0 = pd.read_csv('/nfs/data/interim/TRADE_A233740.csv')"
   ]
  },
  {
   "cell_type": "code",
   "execution_count": 9,
   "metadata": {},
   "outputs": [],
   "source": [
    "from mlfinlab import data_structures "
   ]
  },
  {
   "cell_type": "code",
   "execution_count": 23,
   "metadata": {},
   "outputs": [
    {
     "name": "stdout",
     "output_type": "stream",
     "text": [
      "Reading data in batches:\n",
      "Batch number: 0\n",
      "Batch number: 1\n",
      "Batch number: 2\n",
      "Batch number: 3\n",
      "Batch number: 4\n",
      "Batch number: 5\n",
      "Batch number: 6\n",
      "Batch number: 7\n",
      "Batch number: 8\n",
      "Batch number: 9\n",
      "Batch number: 10\n",
      "Batch number: 11\n",
      "Batch number: 12\n",
      "Batch number: 13\n",
      "Batch number: 14\n",
      "Batch number: 15\n",
      "Batch number: 16\n",
      "Batch number: 17\n",
      "Batch number: 18\n",
      "Batch number: 19\n",
      "Batch number: 20\n",
      "Batch number: 21\n",
      "Batch number: 22\n",
      "Batch number: 23\n",
      "Batch number: 24\n",
      "Batch number: 25\n",
      "Batch number: 26\n",
      "Batch number: 27\n",
      "Batch number: 28\n",
      "Batch number: 29\n",
      "Batch number: 30\n",
      "Batch number: 31\n",
      "Batch number: 32\n",
      "Batch number: 33\n",
      "Batch number: 34\n",
      "Batch number: 35\n",
      "Batch number: 36\n",
      "Batch number: 37\n",
      "Batch number: 38\n",
      "Batch number: 39\n",
      "Batch number: 40\n",
      "Batch number: 41\n",
      "Batch number: 42\n",
      "Batch number: 43\n",
      "Batch number: 44\n",
      "Batch number: 45\n",
      "Batch number: 46\n",
      "Batch number: 47\n",
      "Batch number: 48\n",
      "Batch number: 49\n",
      "Returning bars \n",
      "\n"
     ]
    }
   ],
   "source": [
    "df1 = data_structures.get_dollar_imbalance_bars('/nfs/data/interim/TRADE_A233740.csv', num_prev_bars=1000, \n",
    "                                         exp_num_ticks_init=100, batch_size=20000)"
   ]
  },
  {
   "cell_type": "code",
   "execution_count": 27,
   "metadata": {},
   "outputs": [],
   "source": [
    "df1 = df1.set_index('date_time')"
   ]
  },
  {
   "cell_type": "code",
   "execution_count": 32,
   "metadata": {},
   "outputs": [],
   "source": [
    "parq_file = f'/nfs/data/interim/TRADE_A233740_imb_bars.parq'\n",
    "df1.to_parquet(parq_file)"
   ]
  },
  {
   "cell_type": "code",
   "execution_count": 33,
   "metadata": {},
   "outputs": [],
   "source": [
    "df2 = pd.read_parquet(parq_file)"
   ]
  },
  {
   "cell_type": "code",
   "execution_count": 37,
   "metadata": {},
   "outputs": [],
   "source": [
    "df_imb_bars = df1"
   ]
  },
  {
   "cell_type": "code",
   "execution_count": 39,
   "metadata": {},
   "outputs": [],
   "source": [
    "df_price = df.loc[:'2018-01-19']"
   ]
  },
  {
   "cell_type": "code",
   "execution_count": 36,
   "metadata": {},
   "outputs": [
    {
     "data": {
      "text/html": [
       "<div>\n",
       "<style scoped>\n",
       "    .dataframe tbody tr th:only-of-type {\n",
       "        vertical-align: middle;\n",
       "    }\n",
       "\n",
       "    .dataframe tbody tr th {\n",
       "        vertical-align: top;\n",
       "    }\n",
       "\n",
       "    .dataframe thead th {\n",
       "        text-align: right;\n",
       "    }\n",
       "</style>\n",
       "<table border=\"1\" class=\"dataframe\">\n",
       "  <thead>\n",
       "    <tr style=\"text-align: right;\">\n",
       "      <th></th>\n",
       "      <th>open</th>\n",
       "      <th>high</th>\n",
       "      <th>low</th>\n",
       "      <th>close</th>\n",
       "      <th>volume</th>\n",
       "    </tr>\n",
       "    <tr>\n",
       "      <th>date_time</th>\n",
       "      <th></th>\n",
       "      <th></th>\n",
       "      <th></th>\n",
       "      <th></th>\n",
       "      <th></th>\n",
       "    </tr>\n",
       "  </thead>\n",
       "  <tbody>\n",
       "    <tr>\n",
       "      <th>2018-01-19 14:42:03</th>\n",
       "      <td>25815.0</td>\n",
       "      <td>25815.0</td>\n",
       "      <td>25815.0</td>\n",
       "      <td>25815.0</td>\n",
       "      <td>500</td>\n",
       "    </tr>\n",
       "    <tr>\n",
       "      <th>2018-01-19 14:42:03</th>\n",
       "      <td>25815.0</td>\n",
       "      <td>25815.0</td>\n",
       "      <td>25810.0</td>\n",
       "      <td>25810.0</td>\n",
       "      <td>617</td>\n",
       "    </tr>\n",
       "    <tr>\n",
       "      <th>2018-01-19 14:42:03</th>\n",
       "      <td>25810.0</td>\n",
       "      <td>25810.0</td>\n",
       "      <td>25810.0</td>\n",
       "      <td>25810.0</td>\n",
       "      <td>610</td>\n",
       "    </tr>\n",
       "    <tr>\n",
       "      <th>2018-01-19 14:42:03</th>\n",
       "      <td>25810.0</td>\n",
       "      <td>25810.0</td>\n",
       "      <td>25810.0</td>\n",
       "      <td>25810.0</td>\n",
       "      <td>1682</td>\n",
       "    </tr>\n",
       "    <tr>\n",
       "      <th>2018-01-19 14:42:04</th>\n",
       "      <td>25810.0</td>\n",
       "      <td>25810.0</td>\n",
       "      <td>25805.0</td>\n",
       "      <td>25810.0</td>\n",
       "      <td>1205</td>\n",
       "    </tr>\n",
       "  </tbody>\n",
       "</table>\n",
       "</div>"
      ],
      "text/plain": [
       "                        open     high      low    close  volume\n",
       "date_time                                                      \n",
       "2018-01-19 14:42:03  25815.0  25815.0  25815.0  25815.0     500\n",
       "2018-01-19 14:42:03  25815.0  25815.0  25810.0  25810.0     617\n",
       "2018-01-19 14:42:03  25810.0  25810.0  25810.0  25810.0     610\n",
       "2018-01-19 14:42:03  25810.0  25810.0  25810.0  25810.0    1682\n",
       "2018-01-19 14:42:04  25810.0  25810.0  25805.0  25810.0    1205"
      ]
     },
     "execution_count": 36,
     "metadata": {},
     "output_type": "execute_result"
    }
   ],
   "source": [
    "df1.tail()"
   ]
  },
  {
   "cell_type": "code",
   "execution_count": 42,
   "metadata": {},
   "outputs": [],
   "source": [
    "df1['PRICE'] = df1.close"
   ]
  },
  {
   "cell_type": "code",
   "execution_count": 46,
   "metadata": {},
   "outputs": [
    {
     "data": {
      "text/html": [
       "<div>\n",
       "<style scoped>\n",
       "    .dataframe tbody tr th:only-of-type {\n",
       "        vertical-align: middle;\n",
       "    }\n",
       "\n",
       "    .dataframe tbody tr th {\n",
       "        vertical-align: top;\n",
       "    }\n",
       "\n",
       "    .dataframe thead th {\n",
       "        text-align: right;\n",
       "    }\n",
       "</style>\n",
       "<table border=\"1\" class=\"dataframe\">\n",
       "  <thead>\n",
       "    <tr style=\"text-align: right;\">\n",
       "      <th></th>\n",
       "      <th>PRICE</th>\n",
       "      <th>V</th>\n",
       "    </tr>\n",
       "    <tr>\n",
       "      <th>TIME</th>\n",
       "      <th></th>\n",
       "      <th></th>\n",
       "    </tr>\n",
       "  </thead>\n",
       "  <tbody>\n",
       "    <tr>\n",
       "      <th>2018-01-02 09:01:43</th>\n",
       "      <td>19800</td>\n",
       "      <td>60</td>\n",
       "    </tr>\n",
       "    <tr>\n",
       "      <th>2018-01-02 09:03:06</th>\n",
       "      <td>19800</td>\n",
       "      <td>1</td>\n",
       "    </tr>\n",
       "    <tr>\n",
       "      <th>2018-01-02 09:04:56</th>\n",
       "      <td>19800</td>\n",
       "      <td>110</td>\n",
       "    </tr>\n",
       "    <tr>\n",
       "      <th>2018-01-02 09:13:44</th>\n",
       "      <td>19800</td>\n",
       "      <td>1</td>\n",
       "    </tr>\n",
       "    <tr>\n",
       "      <th>2018-01-02 09:20:01</th>\n",
       "      <td>19800</td>\n",
       "      <td>2000</td>\n",
       "    </tr>\n",
       "  </tbody>\n",
       "</table>\n",
       "</div>"
      ],
      "text/plain": [
       "                     PRICE     V\n",
       "TIME                            \n",
       "2018-01-02 09:01:43  19800    60\n",
       "2018-01-02 09:03:06  19800     1\n",
       "2018-01-02 09:04:56  19800   110\n",
       "2018-01-02 09:13:44  19800     1\n",
       "2018-01-02 09:20:01  19800  2000"
      ]
     },
     "execution_count": 46,
     "metadata": {},
     "output_type": "execute_result"
    }
   ],
   "source": [
    "df_price.head()"
   ]
  },
  {
   "cell_type": "code",
   "execution_count": 50,
   "metadata": {},
   "outputs": [],
   "source": [
    "df_imb_bars1 = df_imb_bars.reset_index()[['date_time', 'PRICE']]"
   ]
  },
  {
   "cell_type": "code",
   "execution_count": 51,
   "metadata": {},
   "outputs": [],
   "source": [
    "df_imb_bars1.columns = ['TIME', 'PRICE']"
   ]
  },
  {
   "cell_type": "code",
   "execution_count": 53,
   "metadata": {},
   "outputs": [],
   "source": [
    "df_imb_bars1 = df_imb_bars1.set_index('TIME')"
   ]
  },
  {
   "cell_type": "code",
   "execution_count": 58,
   "metadata": {},
   "outputs": [],
   "source": [
    "df_imb_bars1 = df_imb_bars1.reset_index()"
   ]
  },
  {
   "cell_type": "code",
   "execution_count": 64,
   "metadata": {},
   "outputs": [],
   "source": [
    "df_imb_bars1.TIME = pd.DatetimeIndex(df_imb_bars1.TIME)"
   ]
  },
  {
   "cell_type": "code",
   "execution_count": 65,
   "metadata": {},
   "outputs": [],
   "source": [
    "df_imb_bars1 = df_imb_bars1.set_index('TIME')"
   ]
  },
  {
   "cell_type": "code",
   "execution_count": 68,
   "metadata": {},
   "outputs": [
    {
     "data": {
      "image/png": "[encoded data removed]",
      "text/plain": [
       "<Figure size 720x504 with 3 Axes>"
      ]
     },
     "metadata": {
      "needs_background": "light"
     },
     "output_type": "display_data"
    }
   ],
   "source": [
    "\n",
    "xDate = '2018-01-05'\n",
    "xdf, xtdf = bars.select_sample_data(df_price, df_imb_bars1, 'PRICE', xDate)\n",
    "bars.plot_sample_data(xdf, xtdf, 'dollar imb bar', alpha=0.5, markersize=7)   \n"
   ]
  },
  {
   "cell_type": "code",
   "execution_count": 69,
   "metadata": {},
   "outputs": [
    {
     "data": {
      "text/plain": [
       "(1014107, 2)"
      ]
     },
     "execution_count": 69,
     "metadata": {},
     "output_type": "execute_result"
    }
   ],
   "source": [
    "df_price.shape"
   ]
  },
  {
   "cell_type": "code",
   "execution_count": 70,
   "metadata": {},
   "outputs": [
    {
     "data": {
      "text/plain": [
       "(429441, 1)"
      ]
     },
     "execution_count": 70,
     "metadata": {},
     "output_type": "execute_result"
    }
   ],
   "source": [
    "df_imb_bars1.shape"
   ]
  },
  {
   "cell_type": "code",
   "execution_count": 78,
   "metadata": {},
   "outputs": [
    {
     "data": {
      "text/plain": [
       "array([19800.,    60.])"
      ]
     },
     "execution_count": 78,
     "metadata": {},
     "output_type": "execute_result"
    }
   ],
   "source": [
    "df0.values[0]"
   ]
  },
  {
   "cell_type": "code",
   "execution_count": 53,
   "metadata": {},
   "outputs": [],
   "source": [
    "@jit(nopython=True)\n",
    "def numba_isclose(a,b,rel_tol=1e-09,abs_tol=0.0):\n",
    "    return np.fabs(a-b) <= np.fmax(rel_tol*np.fmax(np.fabs(a), np.fabs(b)), abs_tol)\n",
    "\n",
    "@jit(nopython=True)\n",
    "def get_signed_ticks_jit(t): \n",
    "    bs = t\n",
    "    bs[0] = 1\n",
    "    for i in np.arange(1, bs.shape[0]): \n",
    "        if numba_isclose(bs[i], 0.0):\n",
    "            bs[i] = bs[i-1]\n",
    "    return bs\n",
    "    \n",
    "\n",
    "def get_signed_ticks(prices): \n",
    "    \"\"\"\n",
    "    Applies the tick rule as defined on page 29.\n",
    "    \n",
    "    : param prices: numpy array of price\n",
    "    : return: the singed tick array \n",
    "    \n",
    "    \"\"\"\n",
    "    return get_signed_ticks_jit(np.sign(np.diff(prices)))\n",
    "\n",
    "\n",
    "def get_imbalance_ticks(df, metric): \n",
    "    prices = df.PRICE.values\n",
    "    signed_ticks = get_signed_ticks(prices)\n",
    "    \n",
    "    if metric == \"tick_imbalance\": \n",
    "        imb_ticks = signed_ticks\n",
    "    elif metric == \"dollar_imbalance\": \n",
    "        imb_ticks = signed_ticks * df.DV.values[1:]\n",
    "    else: \n",
    "        imb_ticks = signed_ticks * df.V.values[1:]\n",
    "    \n",
    "    return imb_ticks\n",
    "\n",
    "\n",
    "def agg_imbalance_bars(imb_arr, tm_arr, data_arr): \n",
    "    \"\"\"\n",
    "    : param tm_arr: Timestamp array \n",
    "    : param data_arr: Contains 2 columns - [PRICE, V]\n",
    "    \"\"\"\n",
    "    \n",
    "    n_imb_ticks = len(imb_ticks)\n",
    "    cum_ticks, cum_theta, cum_vol = 0, 0, 0\n",
    "    high_price, low_price = -np.inf, np.inf\n",
    "\n",
    "    for i in np.arange(n_imb_ticks):\n",
    "        tm = tm_arr[i]\n",
    "        price = data_arr[i][0]\n",
    "        vol = data_arr[i][1]\n",
    "        imbalance = imb_arr[i]\n",
    "        \n",
    "        # update high/low_price\n",
    "        if price > high_price:\n",
    "            high_price = price\n",
    "\n",
    "        if price <= low_price:\n",
    "            low_price = price\n",
    "\n",
    "        cum_ticks += 1\n",
    "        cum_vol += vol\n",
    "        cum_theta += imbalance\n",
    "        \n",
    "        \n",
    "            \n",
    "        # imbalance calculation\n",
    "        \n",
    "        print(i, tm, imb_ticks[i], price, vol)\n",
    "        \n",
    "        \n",
    "\n"
   ]
  },
  {
   "cell_type": "code",
   "execution_count": 54,
   "metadata": {},
   "outputs": [
    {
     "data": {
      "text/html": [
       "<div>\n",
       "<style scoped>\n",
       "    .dataframe tbody tr th:only-of-type {\n",
       "        vertical-align: middle;\n",
       "    }\n",
       "\n",
       "    .dataframe tbody tr th {\n",
       "        vertical-align: top;\n",
       "    }\n",
       "\n",
       "    .dataframe thead th {\n",
       "        text-align: right;\n",
       "    }\n",
       "</style>\n",
       "<table border=\"1\" class=\"dataframe\">\n",
       "  <thead>\n",
       "    <tr style=\"text-align: right;\">\n",
       "      <th></th>\n",
       "      <th>PRICE</th>\n",
       "      <th>BID</th>\n",
       "      <th>ASK</th>\n",
       "      <th>V</th>\n",
       "      <th>DV</th>\n",
       "    </tr>\n",
       "    <tr>\n",
       "      <th>TIMESTAMP</th>\n",
       "      <th></th>\n",
       "      <th></th>\n",
       "      <th></th>\n",
       "      <th></th>\n",
       "      <th></th>\n",
       "    </tr>\n",
       "  </thead>\n",
       "  <tbody>\n",
       "    <tr>\n",
       "      <th>2018-01-02 09:01:43.692</th>\n",
       "      <td>19800</td>\n",
       "      <td>-2147483648</td>\n",
       "      <td>-2147483648</td>\n",
       "      <td>60</td>\n",
       "      <td>1188000</td>\n",
       "    </tr>\n",
       "    <tr>\n",
       "      <th>2018-01-02 09:03:06.747</th>\n",
       "      <td>19800</td>\n",
       "      <td>-2147483648</td>\n",
       "      <td>-2147483648</td>\n",
       "      <td>1</td>\n",
       "      <td>19800</td>\n",
       "    </tr>\n",
       "    <tr>\n",
       "      <th>2018-01-02 09:04:56.303</th>\n",
       "      <td>19800</td>\n",
       "      <td>-2147483648</td>\n",
       "      <td>-2147483648</td>\n",
       "      <td>110</td>\n",
       "      <td>2178000</td>\n",
       "    </tr>\n",
       "    <tr>\n",
       "      <th>2018-01-02 09:13:44.671</th>\n",
       "      <td>19800</td>\n",
       "      <td>20005</td>\n",
       "      <td>20030</td>\n",
       "      <td>1</td>\n",
       "      <td>19800</td>\n",
       "    </tr>\n",
       "    <tr>\n",
       "      <th>2018-01-02 09:20:01.166</th>\n",
       "      <td>19800</td>\n",
       "      <td>19900</td>\n",
       "      <td>19940</td>\n",
       "      <td>2000</td>\n",
       "      <td>39600000</td>\n",
       "    </tr>\n",
       "  </tbody>\n",
       "</table>\n",
       "</div>"
      ],
      "text/plain": [
       "                         PRICE         BID         ASK     V        DV\n",
       "TIMESTAMP                                                             \n",
       "2018-01-02 09:01:43.692  19800 -2147483648 -2147483648    60   1188000\n",
       "2018-01-02 09:03:06.747  19800 -2147483648 -2147483648     1     19800\n",
       "2018-01-02 09:04:56.303  19800 -2147483648 -2147483648   110   2178000\n",
       "2018-01-02 09:13:44.671  19800       20005       20030     1     19800\n",
       "2018-01-02 09:20:01.166  19800       19900       19940  2000  39600000"
      ]
     },
     "execution_count": 54,
     "metadata": {},
     "output_type": "execute_result"
    }
   ],
   "source": [
    "df.head()"
   ]
  },
  {
   "cell_type": "code",
   "execution_count": 55,
   "metadata": {},
   "outputs": [
    {
     "name": "stdout",
     "output_type": "stream",
     "text": [
      "0 2018-01-02T09:03:06.747000000 19800 19800 1\n",
      "1 2018-01-02T09:04:56.303000000 2178000 19800 110\n",
      "2 2018-01-02T09:13:44.671000000 19800 19800 1\n",
      "3 2018-01-02T09:20:01.166000000 39600000 19800 2000\n",
      "4 2018-01-02T10:00:03.348000000 4272842880 19980 213856\n",
      "5 2018-01-02T10:00:03.349000000 39970000 19985 2000\n",
      "6 2018-01-02T10:00:03.349000000 -1758240 19980 88\n",
      "7 2018-01-02T10:00:03.349000000 119910000 19985 6000\n",
      "8 2018-01-02T10:00:03.730000000 1998500 19985 100\n",
      "9 2018-01-02T10:00:03.730000000 19985000 19985 1000\n"
     ]
    }
   ],
   "source": [
    "tm_arr = df.index.values[1:]\n",
    "data_arr = df[['PRICE', 'V']].values[1:]\n",
    "agg_imbalance_bars(imb_ticks[:10], tm_arr[:10], data_arr[:10])"
   ]
  },
  {
   "cell_type": "code",
   "execution_count": 23,
   "metadata": {},
   "outputs": [
    {
     "name": "stdout",
     "output_type": "stream",
     "text": [
      "CPU times: user 486 ms, sys: 108 ms, total: 594 ms\n",
      "Wall time: 594 ms\n"
     ]
    }
   ],
   "source": [
    "%%time \n",
    "imb_ticks = get_imbalance_ticks(df, \"dollar_imbalance\")"
   ]
  },
  {
   "cell_type": "code",
   "execution_count": 25,
   "metadata": {},
   "outputs": [
    {
     "data": {
      "text/plain": [
       "(11945992,)"
      ]
     },
     "execution_count": 25,
     "metadata": {},
     "output_type": "execute_result"
    }
   ],
   "source": [
    "imb_ticks.shape"
   ]
  },
  {
   "cell_type": "code",
   "execution_count": 26,
   "metadata": {},
   "outputs": [
    {
     "data": {
      "text/plain": [
       "(11945993, 5)"
      ]
     },
     "execution_count": 26,
     "metadata": {},
     "output_type": "execute_result"
    }
   ],
   "source": [
    "df.shape"
   ]
  },
  {
   "cell_type": "code",
   "execution_count": 70,
   "metadata": {},
   "outputs": [
    {
     "name": "stdout",
     "output_type": "stream",
     "text": [
      "4.3 s ± 11.6 ms per loop (mean ± std. dev. of 7 runs, 1 loop each)\n"
     ]
    }
   ],
   "source": [
    "%%timeit\n",
    "for i, v in zip(df.index[:1000000], df.values[:1000000]):\n",
    "    (i, v)"
   ]
  },
  {
   "cell_type": "code",
   "execution_count": 72,
   "metadata": {},
   "outputs": [
    {
     "name": "stdout",
     "output_type": "stream",
     "text": [
      "6.5 s ± 28.3 ms per loop (mean ± std. dev. of 7 runs, 1 loop each)\n"
     ]
    }
   ],
   "source": [
    "%%timeit\n",
    "for i, v in enumerate(df.values[:1000000]): \n",
    "    (df.index[i], v)"
   ]
  },
  {
   "cell_type": "code",
   "execution_count": 54,
   "metadata": {},
   "outputs": [
    {
     "data": {
      "text/plain": [
       "Timestamp('2018-01-02 09:01:43.692000')"
      ]
     },
     "execution_count": 54,
     "metadata": {},
     "output_type": "execute_result"
    }
   ],
   "source": [
    "df.index[0]"
   ]
  },
  {
   "cell_type": "code",
   "execution_count": 53,
   "metadata": {},
   "outputs": [
    {
     "data": {
      "text/plain": [
       "array([      19800, -2147483648, -2147483648,          60,     1188000])"
      ]
     },
     "execution_count": 53,
     "metadata": {},
     "output_type": "execute_result"
    }
   ],
   "source": [
    "df.values[0]"
   ]
  },
  {
   "cell_type": "code",
   "execution_count": 60,
   "metadata": {},
   "outputs": [],
   "source": [
    "TRADE_A252670 = pd.read_parquet('/nfs/data/interim/TRADE_A252670.parq')"
   ]
  },
  {
   "cell_type": "code",
   "execution_count": 62,
   "metadata": {},
   "outputs": [],
   "source": [
    "TRADE_A252670.to_csv('/nfs/data/interim/TRADE_A252670.csv', header=True, index=False)"
   ]
  },
  {
   "cell_type": "code",
   "execution_count": 65,
   "metadata": {},
   "outputs": [],
   "source": [
    "tm_arr = df.index.values"
   ]
  },
  {
   "cell_type": "code",
   "execution_count": 68,
   "metadata": {},
   "outputs": [
    {
     "data": {
      "text/plain": [
       "array([1514883703692000000, 1514883786747000000, 1514883896303000000, ...,\n",
       "       1546010396329000000, 1546010396950000000, 1546010397675000000])"
      ]
     },
     "execution_count": 68,
     "metadata": {},
     "output_type": "execute_result"
    }
   ],
   "source": [
    "\n",
    "tm_arr.astype(int)"
   ]
  }
 ],
 "metadata": {
  "kernelspec": {
   "display_name": "Python 3",
   "language": "python",
   "name": "python3"
  },
  "language_info": {
   "codemirror_mode": {
    "name": "ipython",
    "version": 3
   },
   "file_extension": ".py",
   "mimetype": "text/x-python",
   "name": "python",
   "nbconvert_exporter": "python",
   "pygments_lexer": "ipython3",
   "version": "3.7.2"
  }
 },
 "nbformat": 4,
 "nbformat_minor": 2
}
