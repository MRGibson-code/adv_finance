{
 "cells": [
  {
   "cell_type": "markdown",
   "metadata": {},
   "source": [
    "# Ch02 DIB 수정"
   ]
  },
  {
   "cell_type": "code",
   "execution_count": 205,
   "metadata": {},
   "outputs": [],
   "source": [
    "import numpy as np\n",
    "import pandas as pd \n",
    "import matplotlib as mpl\n",
    "import matplotlib.pyplot as plt\n",
    "\n",
    "from numba import jit\n",
    "from adv_finance import bars"
   ]
  },
  {
   "cell_type": "code",
   "execution_count": 206,
   "metadata": {},
   "outputs": [
    {
     "name": "stdout",
     "output_type": "stream",
     "text": [
      "The autoreload extension is already loaded. To reload it, use:\n",
      "  %reload_ext autoreload\n"
     ]
    }
   ],
   "source": [
    "%load_ext autoreload \n",
    "%autoreload 2\n",
    "\n",
    "plt.style.use('seaborn-talk')\n",
    "plt.style.use('bmh')\n",
    "pd.set_option('display.max_rows', 100)\n"
   ]
  },
  {
   "cell_type": "code",
   "execution_count": 207,
   "metadata": {},
   "outputs": [],
   "source": [
    "# * A122630 KODEX 레버리지(ISIN: KR7122630007)\n",
    "# * A252670 KODEX 200선물인버스2X(ISIN: KR7252670005)\n",
    "# * A233740 KODEX 코스닥150레버리지(ISIN: KR7233740000)\n",
    "# * A251340 KODEX 코스닥150선물인버스(ISIN: KR7251340006)\n",
    "# * A005930 삼성전자(ISIN:KR7005930003)\n",
    "\n",
    "TRADE_A233740 = pd.read_parquet('/nfs/data/interim/TRADE_A233740.parq').set_index('TIME')\n",
    "df = TRADE_A233740"
   ]
  },
  {
   "cell_type": "code",
   "execution_count": 208,
   "metadata": {},
   "outputs": [
    {
     "data": {
      "text/html": [
       "<div>\n",
       "<style scoped>\n",
       "    .dataframe tbody tr th:only-of-type {\n",
       "        vertical-align: middle;\n",
       "    }\n",
       "\n",
       "    .dataframe tbody tr th {\n",
       "        vertical-align: top;\n",
       "    }\n",
       "\n",
       "    .dataframe thead th {\n",
       "        text-align: right;\n",
       "    }\n",
       "</style>\n",
       "<table border=\"1\" class=\"dataframe\">\n",
       "  <thead>\n",
       "    <tr style=\"text-align: right;\">\n",
       "      <th></th>\n",
       "      <th>PRICE</th>\n",
       "      <th>BID</th>\n",
       "      <th>ASK</th>\n",
       "      <th>V</th>\n",
       "      <th>DV</th>\n",
       "    </tr>\n",
       "    <tr>\n",
       "      <th>TIME</th>\n",
       "      <th></th>\n",
       "      <th></th>\n",
       "      <th></th>\n",
       "      <th></th>\n",
       "      <th></th>\n",
       "    </tr>\n",
       "  </thead>\n",
       "  <tbody>\n",
       "    <tr>\n",
       "      <th>2018-01-02 09:01:43</th>\n",
       "      <td>19800</td>\n",
       "      <td>-2147483648</td>\n",
       "      <td>-2147483648</td>\n",
       "      <td>60</td>\n",
       "      <td>1188000</td>\n",
       "    </tr>\n",
       "    <tr>\n",
       "      <th>2018-01-02 09:03:06</th>\n",
       "      <td>19800</td>\n",
       "      <td>-2147483648</td>\n",
       "      <td>-2147483648</td>\n",
       "      <td>1</td>\n",
       "      <td>19800</td>\n",
       "    </tr>\n",
       "    <tr>\n",
       "      <th>2018-01-02 09:04:56</th>\n",
       "      <td>19800</td>\n",
       "      <td>-2147483648</td>\n",
       "      <td>-2147483648</td>\n",
       "      <td>110</td>\n",
       "      <td>2178000</td>\n",
       "    </tr>\n",
       "    <tr>\n",
       "      <th>2018-01-02 09:13:44</th>\n",
       "      <td>19800</td>\n",
       "      <td>20005</td>\n",
       "      <td>20030</td>\n",
       "      <td>1</td>\n",
       "      <td>19800</td>\n",
       "    </tr>\n",
       "    <tr>\n",
       "      <th>2018-01-02 09:20:01</th>\n",
       "      <td>19800</td>\n",
       "      <td>19900</td>\n",
       "      <td>19940</td>\n",
       "      <td>2000</td>\n",
       "      <td>39600000</td>\n",
       "    </tr>\n",
       "  </tbody>\n",
       "</table>\n",
       "</div>"
      ],
      "text/plain": [
       "                     PRICE         BID         ASK     V        DV\n",
       "TIME                                                              \n",
       "2018-01-02 09:01:43  19800 -2147483648 -2147483648    60   1188000\n",
       "2018-01-02 09:03:06  19800 -2147483648 -2147483648     1     19800\n",
       "2018-01-02 09:04:56  19800 -2147483648 -2147483648   110   2178000\n",
       "2018-01-02 09:13:44  19800       20005       20030     1     19800\n",
       "2018-01-02 09:20:01  19800       19900       19940  2000  39600000"
      ]
     },
     "execution_count": 208,
     "metadata": {},
     "output_type": "execute_result"
    }
   ],
   "source": [
    "df.head()"
   ]
  },
  {
   "cell_type": "code",
   "execution_count": 202,
   "metadata": {},
   "outputs": [],
   "source": [
    "# @jit(nopython=True)\n",
    "# def numba_isclose(a,b,rel_tol=1e-09,abs_tol=0.0):\n",
    "#     return np.fabs(a-b) <= np.fmax(rel_tol*np.fmax(np.fabs(a), np.fabs(b)), abs_tol)\n",
    "\n",
    "\n",
    "# @jit(nopython=True)\n",
    "# def bt(p0, p1, b0): \n",
    "# #     if math.isclose((p1-p0), 0.0, abs_tol=0.001): \n",
    "#     if numba_isclose((p1-p0), 0.0, abs_tol=0.001):\n",
    "#         b = b0\n",
    "#         return b\n",
    "#     else: \n",
    "#         b = np.abs(p1-p0)/(p1-p0)\n",
    "#         return b\n",
    "    \n",
    "# @jit(nopython=True)\n",
    "# def get_imbalance_(t): \n",
    "#     bs = np.zeros_like(t)\n",
    "#     last_b = 0\n",
    "#     for i in np.arange(1, bs.shape[0]): \n",
    "#         last_b = int(bt(t[i-1], t[i], last_b))\n",
    "#         bs[i-1] = last_b\n",
    "#     return bs[:-1] # remove last value\n",
    "\n",
    "# @jit(nopython=True)\n",
    "# def get_imbalance(t): \n",
    "#     bs = np.sign(np.diff(t))\n",
    "#     bs[0] = 1\n",
    "#     for i in np.arange(1, bs.shape[0]): \n",
    "#         if numba_isclose(bs[i], 0.0):\n",
    "#             bs[i] = bs[i-1]\n",
    "#     return bs\n",
    "    \n",
    "    "
   ]
  },
  {
   "cell_type": "code",
   "execution_count": 214,
   "metadata": {},
   "outputs": [
    {
     "name": "stdout",
     "output_type": "stream",
     "text": [
      "CPU times: user 133 ms, sys: 89.7 ms, total: 222 ms\n",
      "Wall time: 222 ms\n"
     ]
    }
   ],
   "source": [
    "%%time \n",
    "tidx = bars.get_imbalance(df.PRICE.values)"
   ]
  },
  {
   "cell_type": "code",
   "execution_count": null,
   "metadata": {},
   "outputs": [],
   "source": []
  },
  {
   "cell_type": "code",
   "execution_count": null,
   "metadata": {},
   "outputs": [],
   "source": []
  },
  {
   "cell_type": "code",
   "execution_count": null,
   "metadata": {},
   "outputs": [],
   "source": []
  },
  {
   "cell_type": "code",
   "execution_count": null,
   "metadata": {},
   "outputs": [],
   "source": []
  },
  {
   "cell_type": "code",
   "execution_count": null,
   "metadata": {},
   "outputs": [],
   "source": []
  },
  {
   "cell_type": "code",
   "execution_count": null,
   "metadata": {},
   "outputs": [],
   "source": []
  }
 ],
 "metadata": {
  "kernelspec": {
   "display_name": "Python 3",
   "language": "python",
   "name": "python3"
  },
  "language_info": {
   "codemirror_mode": {
    "name": "ipython",
    "version": 3
   },
   "file_extension": ".py",
   "mimetype": "text/x-python",
   "name": "python",
   "nbconvert_exporter": "python",
   "pygments_lexer": "ipython3",
   "version": "3.7.2"
  }
 },
 "nbformat": 4,
 "nbformat_minor": 2
}
