{
 "cells": [
  {
   "cell_type": "markdown",
   "metadata": {},
   "source": [
    "### TICKDB\n",
    "* TRADE.TIME: 체결 자료 생성 시각\n",
    "* TRADE.TIMESTAMP: 체결 자료 기록 시각\n",
    "* TRADE.VOLUME_SUM: 누적 총 체결 수량\n",
    "* TRADE.VOLUME_BUY_SUM: 누적 BUY 체결 수량\n",
    "* TRADE.VOLUME_SELL_SUM: 누적 SELL 체결 수량 \n",
    "* TRADE.SIDE: 체결 방향(+:매수, -:매도, X: 정보 없음)\n",
    "* TRADE.TRADE_BUY_SUM: 누적 BUY 체결 횟수\n",
    "* TRADE.TRADE_SELL_SUM: 누적 SELL 체결 횟수\n",
    "* TRADE.TRADE_VALUE_SUM: 누적 총 체결 금액 \n",
    "\n",
    "* QUOTE.TIME: 호가 자료 생성 시각\n",
    "* QUOTE.TIMESTAMP: 호가 자료 기록 시각"
   ]
  },
  {
   "cell_type": "code",
   "execution_count": 21,
   "metadata": {},
   "outputs": [],
   "source": [
    "import pandas as pd\n",
    "import pyarrow as pa\n",
    "import pyarrow.parquet as pq\n",
    "import multiprocessing\n",
    "import itertools\n",
    "\n",
    "from tqdm import tqdm\n",
    "from datetime import datetime \n",
    "from multiprocessing import Process, Pool\n",
    "\n"
   ]
  },
  {
   "cell_type": "code",
   "execution_count": 26,
   "metadata": {},
   "outputs": [],
   "source": [
    "def get_mdays(): \n",
    "    df_hdays = pd.read_excel('/nfs/data/hdays/hdays-2019-KRX.xls')\n",
    "    hdays = df_hdays['일자 및 요일'].str.extract('(\\d{4}-\\d{2}-\\d{2})', expand=False)\n",
    "    hdays = pd.to_datetime(hdays)\n",
    "    hdays.name = '날짜'\n",
    "    mdays = pd.date_range('2019-01-01', '2019-12-31', freq='B')\n",
    "    mdays = mdays.drop(hdays)\n",
    "    return mdays\n"
   ]
  },
  {
   "cell_type": "code",
   "execution_count": 27,
   "metadata": {},
   "outputs": [],
   "source": [
    "m = multiprocessing.Manager()\n",
    "q = m.Queue()\n",
    "\n",
    "def proc_tick(args): \n",
    "    q, pbar, mdays, isin, ticker = args\n",
    "\n",
    "    trade_list = []\n",
    "    for i in mdays: \n",
    "        try:\n",
    "            q.put(1)\n",
    "\n",
    "            date = i.strftime('%Y%m%d')\n",
    "            tickdb = f\"/nfs/tickdb/tickdb_{date}_170000.hdf5\"\n",
    "            market_begin = i.replace(hour=9, minute=0, second=0, microsecond=0)\n",
    "            market_end = i.replace(hour=15, minute=30, second=0, microsecond=0)\n",
    "            \n",
    "            TRADE = pd.read_hdf(tickdb, mode='r', key=isin)\n",
    "            TRADE.TIME = TRADE.TIME.apply(lambda x: datetime.strptime(date + x, \"%Y%m%d%H%M%S\"))\n",
    "            TRADE.TIMESTAMP = TRADE.TIMESTAMP.apply(lambda x: datetime.strptime(date + x, \"%Y%m%d%H%M%S%f\"))\n",
    "            \n",
    "            TRADE = TRADE[['TIMESTAMP','PRICE', 'PRICE_BID', 'PRICE_ASK', 'VOLUME']]\n",
    "            TRADE.columns = ['TIMESTAMP', 'PRICE', 'BID', 'ASK', 'V']\n",
    "            TRADE['DV'] = TRADE['PRICE'].astype('int64') * TRADE['V'].astype('int64')\n",
    "            TRADE = TRADE[(TRADE.TIMESTAMP >= market_begin) & (TRADE.TIMESTAMP <= market_end)]\n",
    "            trade_list.append(TRADE)\n",
    "            \n",
    "        except Exception as e: \n",
    "            print(tickdb, isin)\n",
    "            print(e)\n",
    "            \n",
    "    df_tick = pd.concat(trade_list)\n",
    "    df_tick = df_tick.reset_index().drop('index', axis=1)\n",
    "    parq_file = f'/nfs/data/interim/{ticker}.parq'\n",
    "    df_tick.to_parquet(parq_file)\n",
    "    return parq_file\n",
    "\n",
    "def progress_listener(q, n): \n",
    "    pbar = tqdm(position=0, total=n, desc=f\"proc_tick\")\n",
    "    for i in iter(q.get, None):         \n",
    "        pbar.update(1)\n",
    "\n",
    "def preprocess_data(mdays, tables): \n",
    "    print('preproc_data() started')\n",
    "\n",
    "    proc = Process(target=progress_listener, args=(q, len(tables) * len(mdays) ))\n",
    "    proc.start() \n",
    "    \n",
    "    with multiprocessing.Pool(processes=4) as pool: \n",
    "        args = list( zip( range(len(tables)), itertools.repeat(mdays), tables.keys(), tables.values()) )\n",
    "        args = [ (q, i0, i1, i2, i3) for i0, i1, i2, i3 in args ]\n",
    "        results = pool.map(proc_tick, (args))\n",
    "        q.put(None)\n",
    "        print(f\"\\n{len(results)} parq files preprocessed \\n\")\n",
    "        \n",
    "    print('preproc_data() finished')\n",
    "\n",
    "    \n",
    "    "
   ]
  },
  {
   "cell_type": "code",
   "execution_count": 28,
   "metadata": {},
   "outputs": [],
   "source": [
    "# tickdb = f\"/nfs/tickdb/tickdb_20180321_170000.hdf5\"\n",
    "# TRADE = pd.read_hdf(tickdb, mode='r', key='/TRADE_ST/KR7233740000')\n"
   ]
  },
  {
   "cell_type": "code",
   "execution_count": 29,
   "metadata": {},
   "outputs": [],
   "source": [
    "mdays = get_mdays()"
   ]
  },
  {
   "cell_type": "code",
   "execution_count": 38,
   "metadata": {},
   "outputs": [],
   "source": [
    "mdays = mdays[mdays <= '2019-04']"
   ]
  },
  {
   "cell_type": "code",
   "execution_count": 7,
   "metadata": {},
   "outputs": [
    {
     "name": "stdout",
     "output_type": "stream",
     "text": [
      "preproc_data() started\n"
     ]
    },
    {
     "name": "stderr",
     "output_type": "stream",
     "text": [
      "proc_tick:  73%|███████▎  | 178/244 [01:53<00:27,  2.36it/s]"
     ]
    },
    {
     "name": "stdout",
     "output_type": "stream",
     "text": [
      "/nfs/tickdb/tickdb_20180919_170000.hdf5 /TRADE_ST/KR7122630007\n",
      "'No object named /TRADE_ST/KR7122630007 in the file'\n",
      "/nfs/tickdb/tickdb_20180920_170000.hdf5 /TRADE_ST/KR7122630007\n",
      "'No object named /TRADE_ST/KR7122630007 in the file'\n",
      "/nfs/tickdb/tickdb_20180921_170000.hdf5 /TRADE_ST/KR7122630007\n",
      "'No object named /TRADE_ST/KR7122630007 in the file'\n"
     ]
    },
    {
     "name": "stderr",
     "output_type": "stream",
     "text": [
      "proc_tick: 100%|██████████| 244/244 [02:37<00:00,  1.57it/s]"
     ]
    },
    {
     "name": "stdout",
     "output_type": "stream",
     "text": [
      "\n",
      "1 parq files preprocessed \n",
      "\n",
      "preproc_data() finished\n"
     ]
    }
   ],
   "source": [
    "# tables = {\n",
    "# #     '/TRADE_ST/KR7005930003': 'TRADE_A005930',\n",
    "# #     'TRADE_ST/KR7233740000': 'TRADE_A233740',\n",
    "#     '/TRADE_ST/KR7122630007': 'TRADE_A122630',\n",
    "# }\n",
    "# preprocess_data(mdays, tables)\n"
   ]
  },
  {
   "cell_type": "code",
   "execution_count": 39,
   "metadata": {},
   "outputs": [
    {
     "name": "stdout",
     "output_type": "stream",
     "text": [
      "preproc_data() started\n"
     ]
    },
    {
     "name": "stderr",
     "output_type": "stream",
     "text": [
      "proc_tick:  14%|█▍        | 34/240 [00:08<00:46,  4.39it/s]"
     ]
    },
    {
     "name": "stdout",
     "output_type": "stream",
     "text": [
      "/nfs/tickdb/tickdb_20190117_170000.hdf5 /TRADE_ST/KR7252670005\n",
      "File /nfs/tickdb/tickdb_20190117_170000.hdf5 does not exist\n"
     ]
    },
    {
     "name": "stderr",
     "output_type": "stream",
     "text": [
      "proc_tick:  15%|█▌        | 37/240 [00:08<00:35,  5.66it/s]"
     ]
    },
    {
     "name": "stdout",
     "output_type": "stream",
     "text": [
      "/nfs/tickdb/tickdb_20190117_170000.hdf5 /TRADE_ST/KR7251340006\n",
      "File /nfs/tickdb/tickdb_20190117_170000.hdf5 does not exist\n"
     ]
    },
    {
     "name": "stderr",
     "output_type": "stream",
     "text": [
      "proc_tick:  22%|██▏       | 52/240 [00:11<00:42,  4.38it/s]"
     ]
    },
    {
     "name": "stdout",
     "output_type": "stream",
     "text": [
      "/nfs/tickdb/tickdb_20190128_170000.hdf5 /TRADE_ST/KR7251340006\n",
      "File /nfs/tickdb/tickdb_20190128_170000.hdf5 does not exist\n"
     ]
    },
    {
     "name": "stderr",
     "output_type": "stream",
     "text": [
      "proc_tick:  23%|██▎       | 56/240 [00:12<00:35,  5.15it/s]"
     ]
    },
    {
     "name": "stdout",
     "output_type": "stream",
     "text": [
      "/nfs/tickdb/tickdb_20190128_170000.hdf5 /TRADE_ST/KR7252670005\n",
      "File /nfs/tickdb/tickdb_20190128_170000.hdf5 does not exist\n"
     ]
    },
    {
     "name": "stderr",
     "output_type": "stream",
     "text": [
      "proc_tick:  24%|██▍       | 58/240 [00:12<00:35,  5.18it/s]"
     ]
    },
    {
     "name": "stdout",
     "output_type": "stream",
     "text": [
      "/nfs/tickdb/tickdb_20190117_170000.hdf5 /TRADE_ST/KR7122630007\n",
      "File /nfs/tickdb/tickdb_20190117_170000.hdf5 does not exist\n"
     ]
    },
    {
     "name": "stderr",
     "output_type": "stream",
     "text": [
      "proc_tick:  32%|███▏      | 77/240 [00:16<00:48,  3.36it/s]"
     ]
    },
    {
     "name": "stdout",
     "output_type": "stream",
     "text": [
      "/nfs/tickdb/tickdb_20190213_170000.hdf5 /TRADE_ST/KR7251340006\n",
      "File /nfs/tickdb/tickdb_20190213_170000.hdf5 does not exist\n"
     ]
    },
    {
     "name": "stderr",
     "output_type": "stream",
     "text": [
      "proc_tick:  35%|███▌      | 85/240 [00:18<00:31,  4.96it/s]"
     ]
    },
    {
     "name": "stdout",
     "output_type": "stream",
     "text": [
      "/nfs/tickdb/tickdb_20190213_170000.hdf5 /TRADE_ST/KR7252670005\n"
     ]
    },
    {
     "name": "stderr",
     "output_type": "stream",
     "text": [
      "proc_tick:  36%|███▌      | 86/240 [00:18<00:34,  4.51it/s]"
     ]
    },
    {
     "name": "stdout",
     "output_type": "stream",
     "text": [
      "File /nfs/tickdb/tickdb_20190213_170000.hdf5 does not exist\n"
     ]
    },
    {
     "name": "stderr",
     "output_type": "stream",
     "text": [
      "proc_tick:  38%|███▊      | 90/240 [00:18<00:35,  4.18it/s]"
     ]
    },
    {
     "name": "stdout",
     "output_type": "stream",
     "text": [
      "/nfs/tickdb/tickdb_20190128_170000.hdf5 /TRADE_ST/KR7122630007\n",
      "File /nfs/tickdb/tickdb_20190128_170000.hdf5 does not exist\n"
     ]
    },
    {
     "name": "stderr",
     "output_type": "stream",
     "text": [
      "proc_tick:  42%|████▏     | 101/240 [00:20<00:25,  5.48it/s]"
     ]
    },
    {
     "name": "stdout",
     "output_type": "stream",
     "text": [
      "/nfs/tickdb/tickdb_20190117_170000.hdf5 /TRADE_ST/KR7233740000\n",
      "File /nfs/tickdb/tickdb_20190117_170000.hdf5 does not exist\n"
     ]
    },
    {
     "name": "stderr",
     "output_type": "stream",
     "text": [
      "proc_tick:  56%|█████▋    | 135/240 [00:27<00:25,  4.06it/s]"
     ]
    },
    {
     "name": "stdout",
     "output_type": "stream",
     "text": [
      "/nfs/tickdb/tickdb_20190213_170000.hdf5 /TRADE_ST/KR7122630007\n",
      "File /nfs/tickdb/tickdb_20190213_170000.hdf5 does not exist\n"
     ]
    },
    {
     "name": "stderr",
     "output_type": "stream",
     "text": [
      "proc_tick:  58%|█████▊    | 139/240 [00:28<00:24,  4.06it/s]"
     ]
    },
    {
     "name": "stdout",
     "output_type": "stream",
     "text": [
      "/nfs/tickdb/tickdb_20190128_170000.hdf5 /TRADE_ST/KR7233740000\n",
      "File /nfs/tickdb/tickdb_20190128_170000.hdf5 does not exist\n"
     ]
    },
    {
     "name": "stderr",
     "output_type": "stream",
     "text": [
      "proc_tick:  66%|██████▋   | 159/240 [00:33<00:25,  3.16it/s]"
     ]
    },
    {
     "name": "stdout",
     "output_type": "stream",
     "text": [
      "/nfs/tickdb/tickdb_20190322_170000.hdf5 /TRADE_ST/KR7251340006\n",
      "File /nfs/tickdb/tickdb_20190322_170000.hdf5 does not exist\n",
      "/nfs/tickdb/tickdb_20190325_170000.hdf5 /TRADE_ST/KR7251340006\n",
      "File /nfs/tickdb/tickdb_20190325_170000.hdf5 does not exist\n"
     ]
    },
    {
     "name": "stderr",
     "output_type": "stream",
     "text": [
      "proc_tick:  71%|███████▏  | 171/240 [00:35<00:21,  3.26it/s]"
     ]
    },
    {
     "name": "stdout",
     "output_type": "stream",
     "text": [
      "/nfs/tickdb/tickdb_20190322_170000.hdf5 /TRADE_ST/KR7252670005\n",
      "File /nfs/tickdb/tickdb_20190322_170000.hdf5 does not exist\n",
      "/nfs/tickdb/tickdb_20190325_170000.hdf5 /TRADE_ST/KR7252670005\n",
      "File /nfs/tickdb/tickdb_20190325_170000.hdf5 does not exist\n"
     ]
    },
    {
     "name": "stderr",
     "output_type": "stream",
     "text": [
      "proc_tick:  77%|███████▋  | 185/240 [00:37<00:14,  3.92it/s]"
     ]
    },
    {
     "name": "stdout",
     "output_type": "stream",
     "text": [
      "/nfs/tickdb/tickdb_20190213_170000.hdf5 /TRADE_ST/KR7233740000\n"
     ]
    },
    {
     "name": "stderr",
     "output_type": "stream",
     "text": [
      "proc_tick:  78%|███████▊  | 187/240 [00:38<00:12,  4.12it/s]"
     ]
    },
    {
     "name": "stdout",
     "output_type": "stream",
     "text": [
      "File /nfs/tickdb/tickdb_20190213_170000.hdf5 does not exist\n"
     ]
    },
    {
     "name": "stderr",
     "output_type": "stream",
     "text": [
      "proc_tick:  89%|████████▉ | 214/240 [00:47<00:11,  2.23it/s]"
     ]
    },
    {
     "name": "stdout",
     "output_type": "stream",
     "text": [
      "/nfs/tickdb/tickdb_20190322_170000.hdf5 /TRADE_ST/KR7122630007\n",
      "File /nfs/tickdb/tickdb_20190322_170000.hdf5 does not exist\n",
      "/nfs/tickdb/tickdb_20190325_170000.hdf5 /TRADE_ST/KR7122630007\n",
      "File /nfs/tickdb/tickdb_20190325_170000.hdf5 does not exist\n"
     ]
    },
    {
     "name": "stderr",
     "output_type": "stream",
     "text": [
      "proc_tick:  98%|█████████▊| 234/240 [01:01<00:06,  1.05s/it]"
     ]
    },
    {
     "name": "stdout",
     "output_type": "stream",
     "text": [
      "/nfs/tickdb/tickdb_20190322_170000.hdf5 /TRADE_ST/KR7233740000\n",
      "File /nfs/tickdb/tickdb_20190322_170000.hdf5 does not exist\n",
      "/nfs/tickdb/tickdb_20190325_170000.hdf5 /TRADE_ST/KR7233740000\n",
      "File /nfs/tickdb/tickdb_20190325_170000.hdf5 does not exist\n"
     ]
    },
    {
     "name": "stderr",
     "output_type": "stream",
     "text": [
      "proc_tick: 100%|██████████| 240/240 [01:05<00:00,  1.13it/s]"
     ]
    },
    {
     "name": "stdout",
     "output_type": "stream",
     "text": [
      "\n",
      "4 parq files preprocessed \n",
      "\n",
      "preproc_data() finished\n"
     ]
    }
   ],
   "source": [
    "tables = {\n",
    "    '/TRADE_ST/KR7252670005': 'TRADE_A252670',\n",
    "    '/TRADE_ST/KR7233740000': 'TRADE_A233740',\n",
    "    '/TRADE_ST/KR7251340006': 'TRADE_A251340', \n",
    "    '/TRADE_ST/KR7122630007': 'TRADE_A122630',\n",
    "}\n",
    "\n",
    "preprocess_data(mdays, tables)\n"
   ]
  },
  {
   "cell_type": "code",
   "execution_count": 11,
   "metadata": {},
   "outputs": [],
   "source": [
    "TRADE_A233740 = pd.read_parquet('/nfs/data/interim/TRADE_A233740.parq')\n",
    "# TRADE_A252670 = pd.read_parquet('/nfs/data/interim/TRADE_A252670.parq')\n",
    "# TRADE_A122630 = pd.read_parquet('/nfs/data/interim/TRADE_A122630.parq')\n",
    "# TRADE_A251340 = pd.read_parquet('/nfs/data/interim/TRADE_A251340.parq')"
   ]
  },
  {
   "cell_type": "code",
   "execution_count": 12,
   "metadata": {},
   "outputs": [
    {
     "data": {
      "text/plain": [
       "(11945993, 6)"
      ]
     },
     "execution_count": 12,
     "metadata": {},
     "output_type": "execute_result"
    }
   ],
   "source": [
    "TRADE_A233740.shape"
   ]
  },
  {
   "cell_type": "code",
   "execution_count": 9,
   "metadata": {},
   "outputs": [],
   "source": [
    "\n",
    "# A122630 KODEX 레버리지(ISIN: KR7122630007)\n",
    "# A252670 KODEX 200선물인버스2X(ISIN: KR7252670005)\n",
    "# A233740 KODEX 코스닥150레버리지(ISIN: KR7233740000)\n",
    "# A251340 KODEX 코스닥150선물인버스(ISIN: KR7251340006)\n",
    "# A005930 삼성전자(ISIN:KR7005930003)\n",
    "\n",
    "# TRADE_A252670 = pd.read_hdf(tickdb, mode='r', key='/TRADE_ST/KR7252670005')\n",
    "# TRADE_A233740 = pd.read_hdf(tickdb, mode='r', key='/TRADE_ST/KR7233740000')\n",
    "# TRADE_A251340 = pd.read_hdf(tickdb, mode='r', key='/TRADE_ST/KR7251340006')\n",
    "# TRADE_A005930 = pd.read_hdf(tickdb, mode='r', key='/TRADE_ST/KR7005930003')"
   ]
  },
  {
   "cell_type": "code",
   "execution_count": 29,
   "metadata": {},
   "outputs": [],
   "source": [
    "# TRADE_A252670 = pd.read_parquet('/nfs/data/interim/TRADE_A252670.parq')\n",
    "# TRADE_A122630 = pd.read_parquet('/nfs/data/interim/TRADE_A122630.parq')\n",
    "# TRADE_A233740 = pd.read_parquet('/nfs/data/interim/TRADE_A233740.parq')\n",
    "# TRADE_A251340 = pd.read_parquet('/nfs/data/interim/TRADE_A251340.parq')\n",
    "# TRADE_A005930 = pd.read_parquet('/nfs/data/interim/TRADE_A005930.parq')"
   ]
  }
 ],
 "metadata": {
  "kernelspec": {
   "display_name": "Python 3",
   "language": "python",
   "name": "python3"
  },
  "language_info": {
   "codemirror_mode": {
    "name": "ipython",
    "version": 3
   },
   "file_extension": ".py",
   "mimetype": "text/x-python",
   "name": "python",
   "nbconvert_exporter": "python",
   "pygments_lexer": "ipython3",
   "version": "3.7.2"
  }
 },
 "nbformat": 4,
 "nbformat_minor": 2
}
