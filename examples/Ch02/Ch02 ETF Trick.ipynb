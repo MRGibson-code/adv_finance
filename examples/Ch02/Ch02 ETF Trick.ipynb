{
 "cells": [
  {
   "cell_type": "markdown",
   "metadata": {},
   "source": [
    "# Ch02 ETF Trick"
   ]
  },
  {
   "cell_type": "code",
   "execution_count": 1,
   "metadata": {},
   "outputs": [],
   "source": [
    "import numpy as np \n",
    "import pandas as pd \n",
    "\n",
    "import matplotlib as mpl\n",
    "import matplotlib.pyplot as plt\n",
    "\n",
    "import datetime as dt\n",
    "from adv_finance import bars, labeling, utils, sampling, multiprocess\n",
    "\n",
    "from tqdm import tqdm\n",
    "from scipy.sparse import csr_matrix\n",
    "\n",
    "import matplotlib.pylab as plt\n",
    "import scipy.sparse as sparse\n",
    "\n"
   ]
  },
  {
   "cell_type": "code",
   "execution_count": 2,
   "metadata": {},
   "outputs": [],
   "source": [
    "%load_ext autoreload \n",
    "%autoreload 2\n",
    "\n",
    "plt.style.use('seaborn-talk')\n",
    "plt.style.use('bmh')\n",
    "pd.set_option('display.max_rows', 100)\n"
   ]
  },
  {
   "cell_type": "code",
   "execution_count": 7,
   "metadata": {},
   "outputs": [],
   "source": [
    "def generate_cov_mat(row): \n",
    "    \"\"\"\n",
    "    Forms covariance matrix from current data frame row using 'rolling_cov', \n",
    "    'rolling_spx_var', and 'rolling_eur_var' column values\n",
    "    \"\"\"\n",
    "    cov = row['rolling_cov']\n",
    "    spx_var = row['rolling_spx_var']\n",
    "    euro_var = row['rolling_euro_var']\n",
    "    return np.matrix([[spx_var, cov], [cov, euro_var]])\n",
    "    "
   ]
  },
  {
   "cell_type": "code",
   "execution_count": 9,
   "metadata": {},
   "outputs": [],
   "source": [
    "# Snippet 2.1 from a book \n",
    "def pca_weights(cov, riskDist=None, risk_target=1.): \n",
    "    \"\"\"\n",
    "    Calculates hedging weights using covariance matrix(cov), risk distribution(riskDist) and risk_target\n",
    "    \"\"\"\n",
    "    eVal, eVec = np.linalg.eigh(cov) \n",
    "    indices = eVal.argsort()[::-1]\n",
    "    eVal, eVec = eVal[indices], eVec[:, indices]\n",
    "    if riskDist is None: \n",
    "        riskDist = np.zeros(cov.shape[0])\n",
    "        riskDist[-1] = 1.\n",
    "    loads = risk_target * (riskDist/eVal)**.5\n",
    "    wghts = np.dot(eVec, np.reshape(loads, (-1, 1)))\n",
    "    return wghts\n",
    "    \n",
    "    "
   ]
  },
  {
   "cell_type": "markdown",
   "metadata": {},
   "source": [
    "## Data Preprocessing"
   ]
  },
  {
   "cell_type": "code",
   "execution_count": 11,
   "metadata": {},
   "outputs": [],
   "source": [
    "spx = pd.read_csv('./Sample-Data/spx.csv', usecols=['Date', 'Price', 'Open'])\n",
    "euro = pd.read_csv('./Sample-Data/eurostoxx.csv', usecols=['Date', 'Price', 'Open'])\n",
    "eur_usd = pd.read_csv('./Sample-Data/eur_usd.csv', usecols = ['Date', 'Price'])"
   ]
  },
  {
   "cell_type": "code",
   "execution_count": 13,
   "metadata": {},
   "outputs": [],
   "source": [
    "# rename columns to universal format\n",
    "spx.rename(columns = {'Date': 'date', 'Price': 'close', 'Open': 'open'}, inplace=True) \n",
    "euro.rename(columns = {'Date': 'date', 'Price': 'close', 'Open': 'open'}, inplace=True)\n",
    "eur_usd.rename(columns = {'Date': 'date', 'Price': 'close'}, inplace=True)"
   ]
  },
  {
   "cell_type": "code",
   "execution_count": 14,
   "metadata": {},
   "outputs": [],
   "source": [
    "spx['date'] = pd.to_datetime(spx.date) #convert date column to datetime format\n",
    "euro['date'] = pd.to_datetime(euro.date)\n",
    "eur_usd['date'] = pd.to_datetime(eur_usd.date)"
   ]
  },
  {
   "cell_type": "code",
   "execution_count": 15,
   "metadata": {},
   "outputs": [],
   "source": [
    "# convert price data from strings to float (investing.com uses specific decimal sep format)\n",
    "spx.close = spx.close.apply(lambda x: x.replace(',', '')).astype(float)\n",
    "euro.close = euro.close.apply(lambda x: x.replace(',', '')).astype(float)\n",
    "spx.open = spx.open.apply(lambda x: x.replace(',', '')).astype(float)\n",
    "euro.open = euro.open.apply(lambda x: x.replace(',', '')).astype(float)"
   ]
  },
  {
   "cell_type": "code",
   "execution_count": 16,
   "metadata": {},
   "outputs": [],
   "source": [
    "spx.set_index('date', inplace=True)\n",
    "euro.set_index('date', inplace=True)\n",
    "eur_usd.set_index('date', inplace=True)"
   ]
  },
  {
   "cell_type": "code",
   "execution_count": 17,
   "metadata": {},
   "outputs": [],
   "source": [
    "spx.sort_index(inplace=True)\n",
    "euro.sort_index(inplace=True)\n",
    "eur_usd.sort_index(inplace=True)"
   ]
  },
  {
   "cell_type": "code",
   "execution_count": 18,
   "metadata": {},
   "outputs": [],
   "source": [
    "eur_usd = eur_usd[eur_usd.index.isin(spx.index)] # exchange rate is needed only for dates when futures are traded"
   ]
  },
  {
   "cell_type": "markdown",
   "metadata": {},
   "source": [
    "## Generate covariances and hedging weights"
   ]
  },
  {
   "cell_type": "code",
   "execution_count": 19,
   "metadata": {},
   "outputs": [],
   "source": [
    "cov_df = pd.DataFrame(index=spx.index)  # init data frame with covariance and price data"
   ]
  },
  {
   "cell_type": "code",
   "execution_count": 23,
   "metadata": {},
   "outputs": [],
   "source": [
    "cov_df.loc[spx.index, 'spx_close'] = spx.loc[:, 'close']\n",
    "cov_df.loc[euro.index, 'euro_close'] = euro.loc[:, 'close']\n",
    "cov_df.loc[spx.index, 'spx_open'] = spx.loc[:, 'open']\n",
    "cov_df.loc[euro.index, 'euro_open'] = euro.loc[:, 'open']\n",
    "cov_df.loc[eur_usd.index, 'eur_usd'] = eur_usd.loc[:, 'close']\n",
    "cov_df['euro_fx_adj'] = cov_df.euro_close / cov_df.eur_usd # we need to calculate EUROSTOXX returns adjusted for FX rate\n",
    "cov_df['spx'] = cov_df.spx_close.pct_change().fillna(0)\n",
    "cov_df['euro'] = cov_df.euro_fx_adj.pct_change().fillna(0)\n"
   ]
  },
  {
   "cell_type": "code",
   "execution_count": 26,
   "metadata": {},
   "outputs": [],
   "source": [
    "# fill missing values with previous ones\n",
    "cov_df.update(cov_df.loc[:, ['spx', 'euro', 'spx_close', 'spx_open', 'euro_close', 'euro_open', 'eur_usd']].fillna(method='pad'))"
   ]
  },
  {
   "cell_type": "code",
   "execution_count": 27,
   "metadata": {},
   "outputs": [],
   "source": [
    "cov_df.sort_index(inplace=True)"
   ]
  },
  {
   "cell_type": "code",
   "execution_count": 29,
   "metadata": {},
   "outputs": [],
   "source": [
    "# get 252 rolling covariance between SPY and EUROSTOXX, rolling variances\n",
    "cov_df['rolling_cov'] = cov_df['spx'].rolling(window=252).cov(cov_df['euro']) \n",
    "cov_df['rolling_spx_var'] = cov_df['spx'].rolling(window=252).var()\n",
    "cov_df['rolling_euro_var'] = cov_df['euro'].rolling(window=252).var()\n"
   ]
  },
  {
   "cell_type": "code",
   "execution_count": 54,
   "metadata": {},
   "outputs": [],
   "source": [
    "cov_df0 = cov_df[:5]"
   ]
  },
  {
   "cell_type": "code",
   "execution_count": 108,
   "metadata": {},
   "outputs": [],
   "source": [
    "# for i, r in cov_df0.iterrows():\n",
    "# #     cov = row['rolling_cov']\n",
    "# #     spx_var = row['rolling_spx_var']\n",
    "# #     euro_var = row['rolling_euro_var']\n",
    "# #     m0 = np.matrix([[spx_var, cov], [cov, euro_var]])\n",
    "#     mat = generate_cov_mat(r)\n",
    "#     w = pca_weights(mat)\n",
    "#     print(i)\n",
    "#     print(mat)\n",
    "#     print(w)\n",
    "    \n",
    "    "
   ]
  },
  {
   "cell_type": "code",
   "execution_count": 101,
   "metadata": {},
   "outputs": [],
   "source": [
    "# iterate over cov_df and on each step define hedging weights using pca_weights function\n",
    "cov_df.dropna(inplace=True)\n",
    "for index, row in cov_df.iterrows():\n",
    "    mat = generate_cov_mat(row)\n",
    "    w = pca_weights(mat)\n",
    "    cov_df.loc[index, 'spx_w'] = w[0]\n",
    "    cov_df.loc[index, 'euro_w'] = w[1]\n",
    "\n",
    "    "
   ]
  },
  {
   "cell_type": "code",
   "execution_count": 102,
   "metadata": {},
   "outputs": [
    {
     "data": {
      "text/html": [
       "<div>\n",
       "<style scoped>\n",
       "    .dataframe tbody tr th:only-of-type {\n",
       "        vertical-align: middle;\n",
       "    }\n",
       "\n",
       "    .dataframe tbody tr th {\n",
       "        vertical-align: top;\n",
       "    }\n",
       "\n",
       "    .dataframe thead th {\n",
       "        text-align: right;\n",
       "    }\n",
       "</style>\n",
       "<table border=\"1\" class=\"dataframe\">\n",
       "  <thead>\n",
       "    <tr style=\"text-align: right;\">\n",
       "      <th></th>\n",
       "      <th>spx_close</th>\n",
       "      <th>euro_close</th>\n",
       "      <th>spx_open</th>\n",
       "      <th>euro_open</th>\n",
       "      <th>eur_usd</th>\n",
       "      <th>euro_fx_adj</th>\n",
       "      <th>spx</th>\n",
       "      <th>euro</th>\n",
       "      <th>rolling_cov</th>\n",
       "      <th>rolling_spx_var</th>\n",
       "      <th>rolling_euro_var</th>\n",
       "      <th>spx_w</th>\n",
       "      <th>euro_w</th>\n",
       "    </tr>\n",
       "    <tr>\n",
       "      <th>date</th>\n",
       "      <th></th>\n",
       "      <th></th>\n",
       "      <th></th>\n",
       "      <th></th>\n",
       "      <th></th>\n",
       "      <th></th>\n",
       "      <th></th>\n",
       "      <th></th>\n",
       "      <th></th>\n",
       "      <th></th>\n",
       "      <th></th>\n",
       "      <th></th>\n",
       "      <th></th>\n",
       "    </tr>\n",
       "  </thead>\n",
       "  <tbody>\n",
       "    <tr>\n",
       "      <th>2017-02-17</th>\n",
       "      <td>2348.00</td>\n",
       "      <td>3301.0</td>\n",
       "      <td>2345.00</td>\n",
       "      <td>3309.0</td>\n",
       "      <td>1.0614</td>\n",
       "      <td>3110.043339</td>\n",
       "      <td>0.001066</td>\n",
       "      <td>0.003525</td>\n",
       "      <td>0.000046</td>\n",
       "      <td>0.000041</td>\n",
       "      <td>0.000156</td>\n",
       "      <td>-188.632134</td>\n",
       "      <td>65.692558</td>\n",
       "    </tr>\n",
       "    <tr>\n",
       "      <th>2017-02-20</th>\n",
       "      <td>2353.25</td>\n",
       "      <td>3314.0</td>\n",
       "      <td>2347.25</td>\n",
       "      <td>3325.0</td>\n",
       "      <td>1.0614</td>\n",
       "      <td>3122.291313</td>\n",
       "      <td>0.002449</td>\n",
       "      <td>0.003938</td>\n",
       "      <td>0.000046</td>\n",
       "      <td>0.000041</td>\n",
       "      <td>0.000156</td>\n",
       "      <td>-188.657776</td>\n",
       "      <td>65.667535</td>\n",
       "    </tr>\n",
       "    <tr>\n",
       "      <th>2017-02-21</th>\n",
       "      <td>2360.00</td>\n",
       "      <td>3337.0</td>\n",
       "      <td>2346.50</td>\n",
       "      <td>3315.0</td>\n",
       "      <td>1.0537</td>\n",
       "      <td>3166.935560</td>\n",
       "      <td>0.002868</td>\n",
       "      <td>0.014299</td>\n",
       "      <td>0.000046</td>\n",
       "      <td>0.000041</td>\n",
       "      <td>0.000153</td>\n",
       "      <td>-189.382575</td>\n",
       "      <td>67.178837</td>\n",
       "    </tr>\n",
       "    <tr>\n",
       "      <th>2017-02-22</th>\n",
       "      <td>2361.00</td>\n",
       "      <td>3338.0</td>\n",
       "      <td>2360.00</td>\n",
       "      <td>3344.0</td>\n",
       "      <td>1.0556</td>\n",
       "      <td>3162.182645</td>\n",
       "      <td>0.000424</td>\n",
       "      <td>-0.001501</td>\n",
       "      <td>0.000044</td>\n",
       "      <td>0.000040</td>\n",
       "      <td>0.000149</td>\n",
       "      <td>-189.767408</td>\n",
       "      <td>66.602665</td>\n",
       "    </tr>\n",
       "    <tr>\n",
       "      <th>2017-02-23</th>\n",
       "      <td>2362.75</td>\n",
       "      <td>3330.0</td>\n",
       "      <td>2362.00</td>\n",
       "      <td>3341.0</td>\n",
       "      <td>1.0581</td>\n",
       "      <td>3147.150553</td>\n",
       "      <td>0.000741</td>\n",
       "      <td>-0.004754</td>\n",
       "      <td>0.000044</td>\n",
       "      <td>0.000040</td>\n",
       "      <td>0.000149</td>\n",
       "      <td>-189.950333</td>\n",
       "      <td>66.836751</td>\n",
       "    </tr>\n",
       "  </tbody>\n",
       "</table>\n",
       "</div>"
      ],
      "text/plain": [
       "            spx_close  euro_close  spx_open  euro_open  eur_usd  euro_fx_adj  \\\n",
       "date                                                                           \n",
       "2017-02-17    2348.00      3301.0   2345.00     3309.0   1.0614  3110.043339   \n",
       "2017-02-20    2353.25      3314.0   2347.25     3325.0   1.0614  3122.291313   \n",
       "2017-02-21    2360.00      3337.0   2346.50     3315.0   1.0537  3166.935560   \n",
       "2017-02-22    2361.00      3338.0   2360.00     3344.0   1.0556  3162.182645   \n",
       "2017-02-23    2362.75      3330.0   2362.00     3341.0   1.0581  3147.150553   \n",
       "\n",
       "                 spx      euro  rolling_cov  rolling_spx_var  \\\n",
       "date                                                           \n",
       "2017-02-17  0.001066  0.003525     0.000046         0.000041   \n",
       "2017-02-20  0.002449  0.003938     0.000046         0.000041   \n",
       "2017-02-21  0.002868  0.014299     0.000046         0.000041   \n",
       "2017-02-22  0.000424 -0.001501     0.000044         0.000040   \n",
       "2017-02-23  0.000741 -0.004754     0.000044         0.000040   \n",
       "\n",
       "            rolling_euro_var       spx_w     euro_w  \n",
       "date                                                 \n",
       "2017-02-17          0.000156 -188.632134  65.692558  \n",
       "2017-02-20          0.000156 -188.657776  65.667535  \n",
       "2017-02-21          0.000153 -189.382575  67.178837  \n",
       "2017-02-22          0.000149 -189.767408  66.602665  \n",
       "2017-02-23          0.000149 -189.950333  66.836751  "
      ]
     },
     "execution_count": 102,
     "metadata": {},
     "output_type": "execute_result"
    }
   ],
   "source": [
    "cov_df.head()"
   ]
  },
  {
   "cell_type": "markdown",
   "metadata": {},
   "source": [
    "## Prepare data set for ETF trick \n"
   ]
  },
  {
   "cell_type": "code",
   "execution_count": 32,
   "metadata": {},
   "outputs": [
    {
     "name": "stderr",
     "output_type": "stream",
     "text": [
      "/opt/conda/envs/python372/lib/python3.7/site-packages/pandas/core/frame.py:4025: SettingWithCopyWarning: \n",
      "A value is trying to be set on a copy of a slice from a DataFrame\n",
      "\n",
      "See the caveats in the documentation: http://pandas.pydata.org/pandas-docs/stable/indexing.html#indexing-view-versus-copy\n",
      "  return super(DataFrame, self).rename(**kwargs)\n"
     ]
    }
   ],
   "source": [
    "open_df = cov_df[['spx_open', 'euro_open']] # create open_df\n",
    "open_df.rename(columns = {'spx_open': 'spx', 'euro_open': 'euro'}, inplace=True)"
   ]
  },
  {
   "cell_type": "code",
   "execution_count": 33,
   "metadata": {},
   "outputs": [
    {
     "name": "stderr",
     "output_type": "stream",
     "text": [
      "/opt/conda/envs/python372/lib/python3.7/site-packages/pandas/core/frame.py:4025: SettingWithCopyWarning: \n",
      "A value is trying to be set on a copy of a slice from a DataFrame\n",
      "\n",
      "See the caveats in the documentation: http://pandas.pydata.org/pandas-docs/stable/indexing.html#indexing-view-versus-copy\n",
      "  return super(DataFrame, self).rename(**kwargs)\n"
     ]
    }
   ],
   "source": [
    "close_df = cov_df[['spx_close', 'euro_close']] # create close_df\n",
    "close_df.rename(columns = {'spx_close': 'spx', 'euro_close': 'euro'}, inplace=True)"
   ]
  },
  {
   "cell_type": "code",
   "execution_count": 34,
   "metadata": {},
   "outputs": [],
   "source": [
    "rates_df = 1/cov_df[['eur_usd']] # we need USD_EUR = 1/EUR_USD rate for EUROSTOXX price movements\n",
    "rates_df.rename(columns = {'eur_usd': 'euro'}, inplace=True)\n",
    "rates_df['spx'] = 1.0"
   ]
  },
  {
   "cell_type": "code",
   "execution_count": 35,
   "metadata": {},
   "outputs": [
    {
     "name": "stderr",
     "output_type": "stream",
     "text": [
      "/opt/conda/envs/python372/lib/python3.7/site-packages/pandas/core/frame.py:4025: SettingWithCopyWarning: \n",
      "A value is trying to be set on a copy of a slice from a DataFrame\n",
      "\n",
      "See the caveats in the documentation: http://pandas.pydata.org/pandas-docs/stable/indexing.html#indexing-view-versus-copy\n",
      "  return super(DataFrame, self).rename(**kwargs)\n"
     ]
    }
   ],
   "source": [
    "alloc_df = cov_df[['spx_w', 'euro_w']] # allocations data frame with weights generated using pca_weights()\n",
    "alloc_df.rename(columns={'spx_w': 'spx', 'euro_w': 'euro'}, inplace=True)"
   ]
  },
  {
   "cell_type": "code",
   "execution_count": 36,
   "metadata": {},
   "outputs": [],
   "source": [
    "costs_df = alloc_df.copy() # let's assume zero rebalancing costs\n",
    "costs_df['spx'] = 0.0\n",
    "costs_df['euro'] = 0.0"
   ]
  },
  {
   "cell_type": "markdown",
   "metadata": {},
   "source": []
  },
  {
   "cell_type": "code",
   "execution_count": 38,
   "metadata": {},
   "outputs": [],
   "source": []
  },
  {
   "cell_type": "code",
   "execution_count": 39,
   "metadata": {},
   "outputs": [],
   "source": [
    "# open_df: 시가 \n",
    "# close_df: 종가 \n",
    "\n",
    "# alloc_df: 할당량?\n",
    "# alloc_df = cov_df[['spx_w', 'euro_w']] # allocations data frame with weights generated using pca_weights()\n",
    "\n",
    "# costs_df: rebalancing costs \n",
    "# costs_df = alloc_df.copy() # let's assume zero rebalancing costs\n",
    "\n",
    "# rates_df: 비율???\n",
    "# rates_df = 1/cov_df[['eur_usd']] # we need USD_EUR = 1/EUR_USD rate for EUROSTOXX price movements\n",
    "\n",
    "\n",
    "\n",
    "trick = ETFTrick(open_df, close_df, alloc_df,\n",
    "                costs_df, rates_df, in_memory=True) # in_memory means that all data frames are stored in memory, if False open_df should be a path to open data frame"
   ]
  },
  {
   "cell_type": "code",
   "execution_count": 40,
   "metadata": {},
   "outputs": [],
   "source": [
    "trick_series = trick.get_etf_series()"
   ]
  },
  {
   "cell_type": "code",
   "execution_count": 41,
   "metadata": {},
   "outputs": [
    {
     "data": {
      "text/plain": [
       "<matplotlib.axes._subplots.AxesSubplot at 0x7f6229c6e3c8>"
      ]
     },
     "execution_count": 41,
     "metadata": {},
     "output_type": "execute_result"
    },
    {
     "data": {
      "image/png": "[encoded data removed]",
      "text/plain": [
       "<Figure size 748.8x514.8 with 1 Axes>"
      ]
     },
     "metadata": {
      "needs_background": "light"
     },
     "output_type": "display_data"
    }
   ],
   "source": [
    "trick_series.plot()"
   ]
  },
  {
   "cell_type": "markdown",
   "metadata": {},
   "source": [
    "# APPENDIX"
   ]
  },
  {
   "cell_type": "code",
   "execution_count": null,
   "metadata": {},
   "outputs": [],
   "source": []
  },
  {
   "cell_type": "code",
   "execution_count": null,
   "metadata": {},
   "outputs": [],
   "source": []
  },
  {
   "cell_type": "markdown",
   "metadata": {},
   "source": [
    "## ETF Trick Implementation"
   ]
  },
  {
   "cell_type": "code",
   "execution_count": 47,
   "metadata": {},
   "outputs": [],
   "source": [
    "\n",
    "\"\"\"\n",
    "This module contains class for ETF trick generation and futures roll function, described in\n",
    "Marcos Lopez de Prado book 'Advances in Financial Machine Learning'\n",
    "ETF trick class can generate ETF trick series either from .csv files or from in memory pandas\n",
    "data frames\n",
    "\"\"\"\n",
    "\n",
    "# Imports\n",
    "import pandas as pd\n",
    "import numpy as np\n",
    "\n",
    "\n",
    "class ETFTrick:\n",
    "    \"\"\"\n",
    "    Contains logic of vectorised ETF trick implementaion. Can used for both memory data frames (pd.DataFrame) and csv files.\n",
    "    All data frames, files should be processed in a specific format, described in examples\n",
    "    \"\"\"\n",
    "\n",
    "    def __init__(self, open_df, close_df, alloc_df, costs_df, rates_df=None, in_memory=True, batch_size=5000, index_col=0):\n",
    "        \"\"\"\n",
    "        Constructor\n",
    "        Creates class object, for csv based files reads the first data chunk.\n",
    "        :param open_df: (pd.DataFrame or string): open prices data frame or path to csv file\n",
    "        :param close_df: (pd.DataFrame or string): close prices data frame or path to csv file\n",
    "        :param alloc_df: (pd.DataFrame or string): asset allocations data frame or path to csv file (in # of contracts)\n",
    "        :param costs_df: (pd.DataFrame or string): rebalance, carry and dividend costs of holding/rebalancing the position\n",
    "        :param rates_df: (pd.DataFrame or string): dollar value of one point move of contract(includes exchange rate, futures contracts multiplies).\n",
    "                         For example, 1$ in VIX index, equals 1000$ in VIX futures contract value. If None then trivial (all values equal 1.0) is generated\n",
    "        :param in_memory: (boolean): boolean flag of whether data frames are stored in memory or in csv files\n",
    "        :param batch_size: (int): number of rows to per batch. Used for csv stored data frames\n",
    "        :param index_col: (int): positional index of index column. Used for to determine index column in csv files\n",
    "\n",
    "        \"\"\"\n",
    "        self.in_memory = in_memory\n",
    "        self.batch_size = batch_size\n",
    "        self.index_col = index_col\n",
    "        self.prev_k = 1.0  # init with 1$ as initial value\n",
    "        # we need to track allocations vector change on previous step\n",
    "        # previous allocation change is needede for delta component calculation\n",
    "        self.prev_allocs_change = False\n",
    "\n",
    "        if in_memory is False:\n",
    "            # create file iterators\n",
    "            self.open_iter = pd.read_csv(\n",
    "                open_df, iterator=True, index_col=self.index_col, parse_dates=[self.index_col])\n",
    "            self.close_iter = pd.read_csv(\n",
    "                close_df, iterator=True, index_col=self.index_col, parse_dates=[self.index_col])\n",
    "            self.alloc_iter = pd.read_csv(\n",
    "                alloc_df, iterator=True, index_col=self.index_col, parse_dates=[self.index_col])\n",
    "            self.costs_iter = pd.read_csv(\n",
    "                costs_df, iterator=True, index_col=self.index_col, parse_dates=[self.index_col])\n",
    "\n",
    "            # get initial data chunk from file iterator\n",
    "            open_df = self.open_iter.get_chunk(self.batch_size)\n",
    "            close_df = self.close_iter.get_chunk(self.batch_size)\n",
    "            alloc_df = self.alloc_iter.get_chunk(self.batch_size)\n",
    "            costs_df = self.costs_iter.get_chunk(self.batch_size)\n",
    "\n",
    "            if rates_df is not None:\n",
    "                self.rates_iter = pd.read_csv(\n",
    "                    rates_df, iterator=True, index_col=self.index_col, parse_dates=[self.index_col])\n",
    "                rates_df = self.rates_iter.get_chunk(batch_size)\n",
    "\n",
    "        self.securities = alloc_df.columns  # get all securities columns\n",
    "        if rates_df is None:\n",
    "            rates_df = open_df.copy()\n",
    "            # set trivial(1.0) exchange rate if no data is provided\n",
    "            rates_df[self.securities] = 1.0\n",
    "\n",
    "        # align all securities columns in one order\n",
    "        open_df = open_df[self.securities]\n",
    "        close_df = close_df[self.securities]\n",
    "        alloc_df = alloc_df[self.securities]\n",
    "        costs_df = costs_df[self.securities]\n",
    "        rates_df = rates_df[self.securities]\n",
    "\n",
    "        self.cache = {'open': open_df.iloc[-2:], 'close': close_df.iloc[-2:], 'alloc': alloc_df.iloc[-2:], 'costs': costs_df.iloc[-2:],\n",
    "                      'rates': rates_df.iloc[-2:]}  # cache is used to recalculate previous row after next chunk load\n",
    "\n",
    "        # check if all data frames have the same index\n",
    "        for df in [close_df, alloc_df, costs_df, rates_df]:\n",
    "            if open_df.index.difference(df.index).shape[0] != 0:\n",
    "                raise ValueError('DataFrames indices are different')\n",
    "\n",
    "        self.data_df = self.generate_trick_components(\n",
    "            open_df, close_df, alloc_df, costs_df, rates_df)  # get all possible etf trick calculations which can be vectorised\n",
    "        # delete first nans (first row of close price difference is nan)\n",
    "        self.data_df = self.data_df.iloc[1:]\n",
    "        self.prev_allocs = np.array(\n",
    "            [np.nan for _ in range(0, len(self.securities))])  # init weights with nan values\n",
    "\n",
    "        self.prev_h = None  # to find current etf_trick value we need previous h value\n",
    "\n",
    "    def generate_trick_components(self, open_df, close_df, alloc_df, costs_df, rates_df):\n",
    "        \"\"\"\n",
    "        Calculates all etf trick operations which can be vectorised. Outputs multilevel pandas data frame.\n",
    "        Generated components:\n",
    "        'w': alloc_df\n",
    "        'h_t': h_t/K value from ETF trick algorithm from the book. Which K to use is based on previous values and cannot be vectorised\n",
    "        'close_open': close_df - open_df\n",
    "        'price_diff': close price differences\n",
    "        'costs': costs_df\n",
    "        'rate': rates_df\n",
    "        :param open_df: (pd.DataFrame or string): open prices data frame or path to csv file\n",
    "        :param close_df: (pd.DataFrame or string): close prices data frame or path to csv file\n",
    "        :param alloc_df: (pd.DataFrame or string): asset allocations data frame or path to csv file (in # of contracts)\n",
    "        :param costs_df: (pd.DataFrame or string): rebalance, carry and dividend costs of holding/rebalancing the position\n",
    "        :param rates_df: (pd.DataFrame or string): dollar value of one point move of contract(includes exchange rate, futures contracts multiplies).\n",
    "                         For example, 1$ in VIX index, equals 1000$ in VIX futures contract value. If None then trivial (all values equal 1.0) is generated\n",
    "        :return: (pd.DataFrame): pandas data frame with columns in a format: component_1/asset_name_1, component_1/asset_name_2, ..., component_6/asset_name_n\n",
    "        \"\"\"\n",
    "        if self.in_memory is False:\n",
    "            max_prev_index = self.cache['open'].index.max() # latest index from previous data_df(cache)\n",
    "            second_max_prev_index = self.cache['open'].index[-2]\n",
    "            # add the last row from previous data chunk to a new chunk\n",
    "            open_df.loc[max_prev_index, :] = self.cache['open'].iloc[-1]\n",
    "            close_df.loc[max_prev_index, :] = self.cache['close'].iloc[-1]\n",
    "            alloc_df.loc[max_prev_index, :] = self.cache['alloc'].iloc[-1]\n",
    "            costs_df.loc[max_prev_index, :] = self.cache['costs'].iloc[-1]\n",
    "            rates_df.loc[max_prev_index, :] = self.cache['rates'].iloc[-1]\n",
    "\n",
    "            # to recalculate latest row we need close price differences\n",
    "            close_df.loc[second_max_prev_index,\n",
    "                         :] = self.cache['close'].loc[second_max_prev_index, :]\n",
    "            # that is why close_df needs 2 previous chunk rows to omit first row nans\n",
    "            # sort data frames after all appends\n",
    "            open_df.sort_index(inplace=True)\n",
    "            close_df.sort_index(inplace=True)\n",
    "            alloc_df.sort_index(inplace=True)\n",
    "            costs_df.sort_index(inplace=True)\n",
    "            rates_df.sort_index(inplace=True)\n",
    "\n",
    "            # align all securities columns in one order\n",
    "            open_df = open_df[self.securities]\n",
    "            close_df = close_df[self.securities]\n",
    "            alloc_df = alloc_df[self.securities]\n",
    "            costs_df = costs_df[self.securities]\n",
    "            rates_df = rates_df[self.securities]\n",
    "\n",
    "            # get price diffs, take values from the second row (first is nan)\n",
    "            price_diff = close_df.diff().iloc[1:]\n",
    "            # delete second max row from previous data chunk in close_df\n",
    "            close_df = close_df.iloc[1:]\n",
    "        else:\n",
    "            price_diff = close_df.diff()\n",
    "\n",
    "        next_open_df = open_df.shift(-1)  # generate next open prices\n",
    "        close_open_diff = close_df.sub(open_df)  # close - open data frame\n",
    "        alloc_df['abs_w_sum'] = alloc_df.abs().sum(\n",
    "            axis=1)  # for each row generate absolute values sum for all assets\n",
    "        delever_df = (next_open_df.mul(rates_df)).mul(\n",
    "            alloc_df['abs_w_sum'], axis='index')  # deleverage component for h_i_t calculation\n",
    "        h_without_k = alloc_df.div(\n",
    "            delever_df)  # generate calculated h_t values for each row. For complete h_t calculation multiplying by current K_t is needed(can be vectorised)\n",
    "\n",
    "        weights_df = alloc_df[self.securities]  # allign all securities columns\n",
    "        h_without_k = h_without_k[self.securities]\n",
    "        close_open_diff = close_open_diff[self.securities]\n",
    "        price_diff = price_diff[self.securities]\n",
    "        costs_df = costs_df[self.securities]\n",
    "        rates_df = rates_df[self.securities]\n",
    "\n",
    "        return pd.concat([weights_df, h_without_k, close_open_diff, price_diff, costs_df, rates_df], axis=1,\n",
    "                         keys=[\n",
    "            'w', 'h_t', 'close_open', 'price_diff', 'costs',\n",
    "            'rate'])  # generate data frame with all pregenerated info needed for ETF trick\n",
    "\n",
    "    def _chunk_loop(self):\n",
    "        \"\"\"\n",
    "        Single ETF trick iteration for currently stored data set in memory.\n",
    "        For in-memory data set would yield complete ETF trick series, for csv based\n",
    "        would generate ETF trick series for current batch.\n",
    "        :return: (pd.Series): pandas Series with ETF trick values starting from 1.0\n",
    "        \"\"\"\n",
    "        etf_series = pd.Series()\n",
    "        for index, row in zip(self.data_df.index, self.data_df.values):\n",
    "            weights_arr, h_t, close_open, price_diff, costs, rate = np.array_split(\n",
    "                row, 6)  # split row in corresponding values for ETF trick\n",
    "            # replaces nan to zeros in allocations vector\n",
    "            weights_arr = np.nan_to_num(weights_arr)\n",
    "            # convert np.bool to bool\n",
    "            # boolean flag of allocations vector change\n",
    "            allocs_change = bool(~(self.prev_allocs == weights_arr).all())\n",
    "            if self.prev_allocs_change is True:\n",
    "                delta = close_open  # delta from book algorithm\n",
    "            else:\n",
    "                delta = price_diff\n",
    "            if self.prev_h is None:\n",
    "                # previous h value is needed for current K calculation. The first iteration sets up prev_h value\n",
    "                self.prev_h = h_t * self.prev_k\n",
    "                # K is equal to 1 on the first iteration\n",
    "                etf_series[index] = self.prev_k\n",
    "            else:\n",
    "                k = self.prev_k + \\\n",
    "                    np.nansum(self.prev_h * rate * (delta + costs))\n",
    "                etf_series[index] = k\n",
    "                self.prev_k = k\n",
    "                if allocs_change == True:\n",
    "                    # h_t is equal to previous h_t, or h_t * k if allocations vector changes (roll dates)\n",
    "                    self.prev_h = h_t * k\n",
    "                # update previous allocation vector change\n",
    "                self.prev_allocs_change = allocs_change\n",
    "                self.prev_allocs = weights_arr\n",
    "        return etf_series\n",
    "\n",
    "    def _csv_file_etf_series(self):\n",
    "        \"\"\"\n",
    "        Csv based ETF trick series generation\n",
    "        :return: (pd.Series): pandas Series with ETF trick values starting from 1.0\n",
    "        \"\"\"\n",
    "        etf_series = pd.Series()\n",
    "        # read data in batch until StopIteration exception is raised\n",
    "        while True:\n",
    "            try:\n",
    "                # generate ETF trick values for read data chunk\n",
    "                chunk_etf_series = self._chunk_loop()\n",
    "                etf_series = etf_series.append(chunk_etf_series)\n",
    "                open_df = self.open_iter.get_chunk(\n",
    "                    self.batch_size)  # read the next batch\n",
    "                close_df = self.close_iter.get_chunk(self.batch_size)\n",
    "                alloc_df = self.alloc_iter.get_chunk(self.batch_size)\n",
    "                costs_df = self.costs_iter.get_chunk(self.batch_size)\n",
    "\n",
    "                try:\n",
    "                    # if there is rates_df iterator, get the next chunk\n",
    "                    rates_df = self.rates_iter.get_chunk(self.batch_size)\n",
    "                except AttributeError:\n",
    "                    # if no iterator is available, generate trivial ratest_df (1.0 for all securities)\n",
    "                    rates_df = open_df.copy()\n",
    "                    # set trivial(1.0) exchange rate if no data is provided\n",
    "                    rates_df[self.securities] = 1.0\n",
    "\n",
    "                next_data_df = self.generate_trick_components(\n",
    "                    open_df, close_df, alloc_df, costs_df, rates_df)\n",
    "                self.cache = {'open': open_df.iloc[-2:], 'close': close_df.iloc[-2:], 'alloc': alloc_df.iloc[-2:],\n",
    "                              'costs': costs_df.iloc[-2:],\n",
    "                              'rates': rates_df.iloc[-2:]}  # update cache\n",
    "                next_data_df.sort_index(inplace=True)\n",
    "                self.data_df = next_data_df  # update data_df for ETF trick calculation\n",
    "                # reset prev_k for previous row calculation\n",
    "                self.prev_k = etf_series.iloc[-2]\n",
    "            except StopIteration:\n",
    "                return etf_series\n",
    "\n",
    "    def _in_memory_etf_series(self):\n",
    "        \"\"\"\n",
    "        In-memory based ETF trick series generation\n",
    "        :return: (pd.Series): pandas Series with ETF trick values starting from 1.0\n",
    "        \"\"\"\n",
    "        return self._chunk_loop()\n",
    "\n",
    "    def get_etf_series(self):\n",
    "        \"\"\"\n",
    "        External method which defines which etf trick method to use based on in_memory field value\n",
    "        :return: (pd.Series): pandas Series with ETF trick values starting from 1.0\n",
    "        \"\"\"\n",
    "        if self.in_memory is True:\n",
    "            return self._in_memory_etf_series()\n",
    "        else:\n",
    "            return self._csv_file_etf_series()\n",
    "\n",
    "\n",
    "def get_futures_roll_series(df, open_col, close_col, sec_col, current_sec_col,  roll_backward=False):\n",
    "    \"\"\"\n",
    "    Function for generating rolling futures series from data frame of multiple futures\n",
    "    :param df: (pd.DataFrame): pandas DataFrame containing price info, security name and  current active futures column\n",
    "    :param open_col: (string): open prices column name\n",
    "    :param close_col: (string): close prices column name\n",
    "    :param sec_col: (string): security name column name\n",
    "    :param current_sec_col: (string): current active security column name.\n",
    "                                      When value in this column changes it means rolling\n",
    "    :param roll_backward: (boolean): True for substracting final gap value from all values\n",
    "    :return (pd.Series): futures roll close price series\n",
    "    \"\"\"\n",
    "    # filter out security data which is not used as current security\n",
    "    df = df[df[sec_col] == df[current_sec_col]]\n",
    "    df.sort_index(inplace=True)\n",
    "    # generate roll dates series based on curren_sec column value change\n",
    "    roll_dates = df[current_sec_col].drop_duplicates(keep='first').index\n",
    "    gaps = df[close_col] * 0  # roll gaps series\n",
    "    gaps.loc[roll_dates[1:]] = series[open_col].loc[roll_dates[1:]] - \\\n",
    "        series[close_col].loc[roll_dates[1:] # on roll dates, gap equals open - close\n",
    "                              ]  # TODO: undertand why Marcos used iloc and list logic\n",
    "    if roll_backward:\n",
    "        gaps -= gaps.iloc[-1]  # roll backward\n",
    "    df[close_col] -= gaps\n",
    "    return df[close_col]\n"
   ]
  },
  {
   "cell_type": "code",
   "execution_count": null,
   "metadata": {},
   "outputs": [],
   "source": []
  }
 ],
 "metadata": {
  "kernelspec": {
   "display_name": "Python 3",
   "language": "python",
   "name": "python3"
  },
  "language_info": {
   "codemirror_mode": {
    "name": "ipython",
    "version": 3
   },
   "file_extension": ".py",
   "mimetype": "text/x-python",
   "name": "python",
   "nbconvert_exporter": "python",
   "pygments_lexer": "ipython3",
   "version": "3.7.2"
  }
 },
 "nbformat": 4,
 "nbformat_minor": 2
}
